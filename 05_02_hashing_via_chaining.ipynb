{
  "cells": [
    {
      "cell_type": "markdown",
      "metadata": {
        "id": "view-in-github",
        "colab_type": "text"
      },
      "source": [
        "<a href=\"https://colab.research.google.com/github/kaynatmozammil/Data-Structure-Algorithm-DSA-using-Python/blob/main/05_02_hashing_via_chaining.ipynb\" target=\"_parent\"><img src=\"https://colab.research.google.com/assets/colab-badge.svg\" alt=\"Open In Colab\"/></a>"
      ]
    },
    {
      "cell_type": "code",
      "execution_count": 1,
      "metadata": {
        "id": "l4d1HGFm6ZAp"
      },
      "outputs": [],
      "source": [
        "class Node:\n",
        "  def __init__(self, key, value):\n",
        "    self.key = key\n",
        "    self.value = value\n",
        "    self.next = None"
      ]
    },
    {
      "cell_type": "code",
      "execution_count": 44,
      "metadata": {
        "id": "bFExSIha4mWr"
      },
      "outputs": [],
      "source": [
        "class LinkedList:\n",
        "\n",
        "  def __init__(self):\n",
        "    # Empty Linked List\n",
        "    self.head = None\n",
        "\n",
        "  def add(self,key ,value):\n",
        "    new_node = Node(key , value)\n",
        "\n",
        "    if self.head == None:\n",
        "      self.head = new_node\n",
        "    else:\n",
        "      temp = self.head\n",
        "\n",
        "      while temp.next != None:\n",
        "        temp = temp.next\n",
        "\n",
        "      # you are at the last node\n",
        "      temp.next = new_node\n",
        "\n",
        "  # removing by key\n",
        "  def remove(self, key):\n",
        "\n",
        "    if self.head == None:\n",
        "      return 'List is empty'\n",
        "    if self.head.key == key:\n",
        "      self.delete_head()\n",
        "      return\n",
        "\n",
        "    temp  = self.head\n",
        "\n",
        "    while temp.next != None:\n",
        "      if temp.next.key == key:\n",
        "        break\n",
        "      temp = temp.next\n",
        "\n",
        "    if temp.next == None:\n",
        "      return 'Item not found'\n",
        "    else:\n",
        "      temp.next = temp.next.next\n",
        "\n",
        "  def search(self,key):\n",
        "\n",
        "    temp = self.head\n",
        "    pos = 0\n",
        "    while temp != None:\n",
        "      if temp.key == key:\n",
        "        return pos\n",
        "      temp = temp.next\n",
        "      pos += 1\n",
        "    return -1\n",
        "\n",
        "\n",
        "\n",
        "  def traverse(self):\n",
        "    temp = self.head\n",
        "    while temp is not None:\n",
        "        print(temp.key, \"-->\", temp.value, end=\"  \")\n",
        "        temp = temp.next\n",
        "\n",
        "  def size(self):\n",
        "    temp = self.head\n",
        "    count = 0\n",
        "    while temp is not None:\n",
        "        count += 1\n",
        "        temp = temp.next\n",
        "    return count\n",
        "\n",
        "  # def delete_head(self):\n",
        "  #   self.head = self.head.next\n",
        "\n",
        "\n",
        "\n",
        "  def get_node_at_index(self,index):\n",
        "    temp = self.head\n",
        "    pos = 0\n",
        "    while temp != None:\n",
        "      if pos == index:\n",
        "        return temp\n",
        "      temp = temp.next\n",
        "      pos += 1\n",
        "\n",
        "\n"
      ]
    },
    {
      "cell_type": "code",
      "execution_count": 121,
      "metadata": {
        "id": "GdLs6TQYE6Gi"
      },
      "outputs": [],
      "source": [
        "class Dictonary:\n",
        "  def __init__(self , capacity):\n",
        "    self.capacity = capacity\n",
        "    self.size = 0\n",
        "    #  create array of LL\n",
        "    self.buckets = self.make_array(self.capacity)\n",
        "\n",
        "  def make_array(self, capacity):\n",
        "\n",
        "    L = []\n",
        "    for i in range(capacity):\n",
        "      L.append(LinkedList())\n",
        "    return L\n",
        "\n",
        "  def __setitem__(self,key,value):\n",
        "    self.put(key,value)\n",
        "\n",
        "  def __getitem__(self,key):\n",
        "    return self.get(key)\n",
        "\n",
        "  def __delitem__(self,key):\n",
        "    bucket_index = self.hash_function(key)\n",
        "    self.buckets[bucket_index].remove(key)\n",
        "    self.size -= 1\n",
        "\n",
        "  def __str__(self):\n",
        "    for i in self.buckets:\n",
        "      i.traverse()\n",
        "    return \" \"\n",
        "  def get(self,key):\n",
        "    bucket_index = self.hash_function(key)\n",
        "\n",
        "    res = self.buckets[bucket_index].search(key)\n",
        "    if res == -1:\n",
        "      return \"Not found\"\n",
        "    else:\n",
        "      node = self.buckets[bucket_index].get_node_at_index(res)\n",
        "      return node.value\n",
        "\n",
        "  def put(self , key , value):\n",
        "    bucket_index = self.hash_function(key)\n",
        "\n",
        "    node_index = self.get_node_index(bucket_index,key)\n",
        "\n",
        "    # Insert\n",
        "    if node_index == -1:\n",
        "      self.buckets[bucket_index].add(key,value)\n",
        "      self.size += 1\n",
        "\n",
        "      load_factor = self.size/self.capacity\n",
        "      print(round(load_factor,2))\n",
        "      if load_factor >= 2:\n",
        "        self.rehash()\n",
        "\n",
        "    else:\n",
        "      node = self.buckets[bucket_index].get_node_at_index(node_index)\n",
        "      node.value = value\n",
        "\n",
        "  def rehash(self):\n",
        "    self.capacity *= 2\n",
        "    old_buckets = self.buckets\n",
        "    self.size = 0\n",
        "    self.buckets = self.make_array(self.capacity)\n",
        "\n",
        "\n",
        "    for i in old_buckets:\n",
        "      for j in range(i.size()):\n",
        "        node = i.get_node_at_index(j)\n",
        "        self.put(node.key , node.value)\n",
        "\n",
        "\n",
        "  def get_node_index(self,bucket_index , key):\n",
        "    node_index = self.buckets[bucket_index].search(key)\n",
        "\n",
        "    return node_index\n",
        "\n",
        "  def hash_function(self , key):\n",
        "    return abs(hash(key)) % self.capacity\n",
        "\n",
        "  def delete_head(self):\n",
        "    if self.head == None:\n",
        "      return 'List is empty'\n",
        "    else:\n",
        "      self.head = self.head.next\n",
        "\n",
        "  def remove(self , key):\n",
        "    if self.head == key:\n",
        "      self.delete_head()\n",
        "      return\n",
        "\n"
      ]
    },
    {
      "cell_type": "code",
      "source": [
        "D1 = Dictonary(3)"
      ],
      "metadata": {
        "id": "wGtFm7qskn0q"
      },
      "execution_count": 122,
      "outputs": []
    },
    {
      "cell_type": "code",
      "source": [],
      "metadata": {
        "id": "XsR5nZHGL9o9"
      },
      "execution_count": null,
      "outputs": []
    },
    {
      "cell_type": "code",
      "source": [
        "D1.put('python',34)"
      ],
      "metadata": {
        "colab": {
          "base_uri": "https://localhost:8080/"
        },
        "id": "Gll2q8wKknx8",
        "outputId": "4b268f4f-8e30-4333-de33-5ef8f24ba958"
      },
      "execution_count": 123,
      "outputs": [
        {
          "output_type": "stream",
          "name": "stdout",
          "text": [
            "0.33\n"
          ]
        }
      ]
    },
    {
      "cell_type": "code",
      "source": [
        "D1[\"php5\"]"
      ],
      "metadata": {
        "colab": {
          "base_uri": "https://localhost:8080/",
          "height": 35
        },
        "id": "8C1PX65uL_CU",
        "outputId": "7acb6632-0275-4501-c2ea-f2ca98650207"
      },
      "execution_count": 124,
      "outputs": [
        {
          "output_type": "execute_result",
          "data": {
            "text/plain": [
              "'Not found'"
            ],
            "application/vnd.google.colaboratory.intrinsic+json": {
              "type": "string"
            }
          },
          "metadata": {},
          "execution_count": 124
        }
      ]
    },
    {
      "cell_type": "code",
      "source": [
        "D1.put('php5',45)"
      ],
      "metadata": {
        "colab": {
          "base_uri": "https://localhost:8080/"
        },
        "id": "nt5fmP0ICZ3F",
        "outputId": "0bc08f67-a9fe-4755-b015-70a876db2444"
      },
      "execution_count": 125,
      "outputs": [
        {
          "output_type": "stream",
          "name": "stdout",
          "text": [
            "0.67\n"
          ]
        }
      ]
    },
    {
      "cell_type": "code",
      "source": [
        "D1.put('C',33)"
      ],
      "metadata": {
        "colab": {
          "base_uri": "https://localhost:8080/"
        },
        "id": "HIF--suYQu86",
        "outputId": "e24e1644-b988-444f-d565-426357785c3d"
      },
      "execution_count": 126,
      "outputs": [
        {
          "output_type": "stream",
          "name": "stdout",
          "text": [
            "1.0\n"
          ]
        }
      ]
    },
    {
      "cell_type": "code",
      "source": [
        "print(D1)"
      ],
      "metadata": {
        "colab": {
          "base_uri": "https://localhost:8080/"
        },
        "id": "pxySRQT4RaRT",
        "outputId": "ef2796bd-e52b-446e-f4f3-91848e36bb95"
      },
      "execution_count": 127,
      "outputs": [
        {
          "output_type": "stream",
          "name": "stdout",
          "text": [
            "php5 --> 45  C --> 33  python --> 34   \n"
          ]
        }
      ]
    },
    {
      "cell_type": "code",
      "source": [
        "D1['C']"
      ],
      "metadata": {
        "colab": {
          "base_uri": "https://localhost:8080/"
        },
        "id": "-UZgzfbTQxij",
        "outputId": "afc75f27-9dc6-460c-e9b3-b81ff2398f01"
      },
      "execution_count": 118,
      "outputs": [
        {
          "output_type": "execute_result",
          "data": {
            "text/plain": [
              "33"
            ]
          },
          "metadata": {},
          "execution_count": 118
        }
      ]
    },
    {
      "cell_type": "code",
      "source": [
        "del D1['C']"
      ],
      "metadata": {
        "id": "etsIjYNFQ1rT"
      },
      "execution_count": 119,
      "outputs": []
    },
    {
      "cell_type": "code",
      "source": [
        "D1['C']"
      ],
      "metadata": {
        "colab": {
          "base_uri": "https://localhost:8080/",
          "height": 35
        },
        "id": "yegq2T0hQ5SU",
        "outputId": "0a853188-d3b5-46a9-ed44-29f9129126eb"
      },
      "execution_count": 120,
      "outputs": [
        {
          "output_type": "execute_result",
          "data": {
            "text/plain": [
              "'Not found'"
            ],
            "application/vnd.google.colaboratory.intrinsic+json": {
              "type": "string"
            }
          },
          "metadata": {},
          "execution_count": 120
        }
      ]
    },
    {
      "cell_type": "code",
      "source": [
        "number = 123.4567\n",
        "print(round(number, 2))\n"
      ],
      "metadata": {
        "colab": {
          "base_uri": "https://localhost:8080/"
        },
        "id": "I-rxdVA5Ovqd",
        "outputId": "74494c2d-1fa9-4dff-c263-f75acc92b08a"
      },
      "execution_count": 110,
      "outputs": [
        {
          "output_type": "stream",
          "name": "stdout",
          "text": [
            "123.46\n"
          ]
        }
      ]
    },
    {
      "cell_type": "code",
      "source": [],
      "metadata": {
        "id": "rRLQWUBaOVKj"
      },
      "execution_count": null,
      "outputs": []
    },
    {
      "cell_type": "code",
      "source": [
        "D1.buckets"
      ],
      "metadata": {
        "colab": {
          "base_uri": "https://localhost:8080/"
        },
        "id": "x7Q7yjzqCZnu",
        "outputId": "50442345-ff54-4cd6-cdc5-429a720e4493"
      },
      "execution_count": 68,
      "outputs": [
        {
          "output_type": "execute_result",
          "data": {
            "text/plain": [
              "[<__main__.LinkedList at 0x7aa64e0843d0>,\n",
              " <__main__.LinkedList at 0x7aa64e1e59d0>,\n",
              " <__main__.LinkedList at 0x7aa64e085d10>,\n",
              " <__main__.LinkedList at 0x7aa64e087410>]"
            ]
          },
          "metadata": {},
          "execution_count": 68
        }
      ]
    },
    {
      "cell_type": "code",
      "source": [
        "D1.buckets[0].traverse()"
      ],
      "metadata": {
        "colab": {
          "base_uri": "https://localhost:8080/"
        },
        "id": "M9BYxY00Crcp",
        "outputId": "fea539d6-0f2c-46d8-b3a6-28237923f189"
      },
      "execution_count": 30,
      "outputs": [
        {
          "output_type": "stream",
          "name": "stdout",
          "text": [
            "java --> 45  "
          ]
        }
      ]
    },
    {
      "cell_type": "code",
      "source": [
        "D1.buckets[1].traverse()"
      ],
      "metadata": {
        "id": "0iR7aRRLCrZ1"
      },
      "execution_count": 31,
      "outputs": []
    },
    {
      "cell_type": "code",
      "source": [
        "D1.buckets[2].traverse()"
      ],
      "metadata": {
        "colab": {
          "base_uri": "https://localhost:8080/"
        },
        "id": "r1_A8GD0CrXO",
        "outputId": "4371a547-e593-4806-cd69-d440a219dfb8"
      },
      "execution_count": 32,
      "outputs": [
        {
          "output_type": "stream",
          "name": "stdout",
          "text": [
            "python --> 34  "
          ]
        }
      ]
    },
    {
      "cell_type": "code",
      "source": [
        "D1.put(\"python\",100)"
      ],
      "metadata": {
        "id": "Uz1BBcrQC_Tl"
      },
      "execution_count": 35,
      "outputs": []
    },
    {
      "cell_type": "code",
      "source": [
        "D1.buckets[2].traverse()"
      ],
      "metadata": {
        "colab": {
          "base_uri": "https://localhost:8080/"
        },
        "id": "BRkyT2XpDEKF",
        "outputId": "e5663254-efbd-48f9-dfcf-5e09d3d67b1f"
      },
      "execution_count": 34,
      "outputs": [
        {
          "output_type": "stream",
          "name": "stdout",
          "text": [
            "python --> 100  "
          ]
        }
      ]
    },
    {
      "cell_type": "code",
      "source": [
        "D1.put('C++',1000)"
      ],
      "metadata": {
        "colab": {
          "base_uri": "https://localhost:8080/"
        },
        "id": "y24c02q2HDnP",
        "outputId": "d4b5a288-41a4-461f-b18e-1597ac3e234d"
      },
      "execution_count": 36,
      "outputs": [
        {
          "output_type": "stream",
          "name": "stdout",
          "text": [
            "0.75\n"
          ]
        }
      ]
    },
    {
      "cell_type": "code",
      "source": [
        "D1.buckets[3].traverse()"
      ],
      "metadata": {
        "colab": {
          "base_uri": "https://localhost:8080/"
        },
        "id": "n9zkP-l9HKV2",
        "outputId": "23175ae4-f68b-4a29-c531-da0ecae79cb4"
      },
      "execution_count": 40,
      "outputs": [
        {
          "output_type": "stream",
          "name": "stdout",
          "text": [
            "C++ --> 1000  "
          ]
        }
      ]
    },
    {
      "cell_type": "code",
      "source": [
        "D1.put('C++',7000)"
      ],
      "metadata": {
        "id": "Nt9lnQfsHP8K"
      },
      "execution_count": 41,
      "outputs": []
    },
    {
      "cell_type": "code",
      "source": [
        "D1.buckets[3].traverse()"
      ],
      "metadata": {
        "colab": {
          "base_uri": "https://localhost:8080/"
        },
        "id": "CJWR1uJJHS4f",
        "outputId": "b50ae0c9-5a57-4dd7-eab7-eb5cb71d00e4"
      },
      "execution_count": 42,
      "outputs": [
        {
          "output_type": "stream",
          "name": "stdout",
          "text": [
            "C++ --> 7000  "
          ]
        }
      ]
    },
    {
      "cell_type": "code",
      "execution_count": null,
      "metadata": {
        "id": "zzSxFH80E6I2"
      },
      "outputs": [],
      "source": [
        "L = []\n",
        "\n",
        "for i in range(3):\n",
        "  L.append(LinkedList())"
      ]
    },
    {
      "cell_type": "code",
      "execution_count": null,
      "metadata": {
        "colab": {
          "base_uri": "https://localhost:8080/"
        },
        "id": "7n6hnsEdE6LJ",
        "outputId": "9f25f921-2d28-4b2d-fb7a-ccd5f15aa77f"
      },
      "outputs": [
        {
          "data": {
            "text/plain": [
              "[<__main__.LinkedList at 0x792557ed4c90>,\n",
              " <__main__.LinkedList at 0x79255e8efe90>,\n",
              " <__main__.LinkedList at 0x79255c636d90>]"
            ]
          },
          "execution_count": 6,
          "metadata": {},
          "output_type": "execute_result"
        }
      ],
      "source": [
        "L"
      ]
    },
    {
      "cell_type": "code",
      "execution_count": null,
      "metadata": {
        "colab": {
          "base_uri": "https://localhost:8080/",
          "height": 104
        },
        "id": "m9NcRI7fE6b0",
        "outputId": "e23ee017-223e-4779-c08f-0784b04412fd"
      },
      "outputs": [
        {
          "data": {
            "text/html": [
              "<div style=\"max-width:800px; border: 1px solid var(--colab-border-color);\"><style>\n",
              "      pre.function-repr-contents {\n",
              "        overflow-x: auto;\n",
              "        padding: 8px 12px;\n",
              "        max-height: 500px;\n",
              "      }\n",
              "\n",
              "      pre.function-repr-contents.function-repr-contents-collapsed {\n",
              "        cursor: pointer;\n",
              "        max-height: 100px;\n",
              "      }\n",
              "    </style>\n",
              "    <pre style=\"white-space: initial; background:\n",
              "         var(--colab-secondary-surface-color); padding: 8px 12px;\n",
              "         border-bottom: 1px solid var(--colab-border-color);\"><b>LinkedList</b><br/>def __init__()</pre><pre class=\"function-repr-contents function-repr-contents-collapsed\" style=\"\"><a class=\"filepath\" style=\"display:none\" href=\"#\"></a>&lt;no docstring&gt;</pre></div>"
            ],
            "text/plain": [
              "__main__.LinkedList"
            ]
          },
          "execution_count": 8,
          "metadata": {},
          "output_type": "execute_result"
        }
      ],
      "source": [
        "type(L[0])"
      ]
    },
    {
      "cell_type": "code",
      "execution_count": null,
      "metadata": {
        "id": "cdL3K4JCE6hJ"
      },
      "outputs": [],
      "source": [
        "L = [LinkedList()]*3"
      ]
    },
    {
      "cell_type": "code",
      "execution_count": null,
      "metadata": {
        "colab": {
          "base_uri": "https://localhost:8080/"
        },
        "id": "6hIHqIYzE6k7",
        "outputId": "dc4117ad-73a6-45f0-b7db-b3bcb64d70ec"
      },
      "outputs": [
        {
          "data": {
            "text/plain": [
              "[<__main__.LinkedList at 0x792557d41950>,\n",
              " <__main__.LinkedList at 0x792557d41950>,\n",
              " <__main__.LinkedList at 0x792557d41950>]"
            ]
          },
          "execution_count": 12,
          "metadata": {},
          "output_type": "execute_result"
        }
      ],
      "source": [
        "L"
      ]
    },
    {
      "cell_type": "code",
      "execution_count": 4,
      "metadata": {
        "id": "dyGVnk6TVoYA"
      },
      "outputs": [],
      "source": [
        "L = LinkedList()"
      ]
    },
    {
      "cell_type": "code",
      "execution_count": 5,
      "metadata": {
        "id": "XNpKuD_iVoaW"
      },
      "outputs": [],
      "source": [
        "L.add(2,3)"
      ]
    },
    {
      "cell_type": "code",
      "execution_count": 6,
      "metadata": {
        "id": "RG2UQliUVoz9"
      },
      "outputs": [],
      "source": [
        "L.add(4,5)"
      ]
    },
    {
      "cell_type": "code",
      "execution_count": 7,
      "metadata": {
        "id": "ENNa7h8wVwU_"
      },
      "outputs": [],
      "source": [
        "L.add(6,7)"
      ]
    },
    {
      "cell_type": "code",
      "execution_count": 8,
      "metadata": {
        "colab": {
          "base_uri": "https://localhost:8080/"
        },
        "id": "ZegTKug9VwQT",
        "outputId": "484b338f-77c4-46b8-a1de-9ebeb45a5be5"
      },
      "outputs": [
        {
          "output_type": "stream",
          "name": "stdout",
          "text": [
            "2 --> 3  4 --> 5  6 --> 7  "
          ]
        }
      ],
      "source": [
        "L.traverse()"
      ]
    },
    {
      "cell_type": "code",
      "source": [
        "L.get_node_at_index(2).value"
      ],
      "metadata": {
        "colab": {
          "base_uri": "https://localhost:8080/"
        },
        "id": "FXRyz2rQkAMu",
        "outputId": "ecd55ae8-8935-4ad5-aa40-27a0d4d4ec1d"
      },
      "execution_count": 13,
      "outputs": [
        {
          "output_type": "execute_result",
          "data": {
            "text/plain": [
              "7"
            ]
          },
          "metadata": {},
          "execution_count": 13
        }
      ]
    },
    {
      "cell_type": "code",
      "source": [],
      "metadata": {
        "id": "tsvdSD61kAJ_"
      },
      "execution_count": null,
      "outputs": []
    }
  ],
  "metadata": {
    "colab": {
      "provenance": [],
      "authorship_tag": "ABX9TyOH5u+p+XDOCSH1Z+5TNZCX",
      "include_colab_link": true
    },
    "kernelspec": {
      "display_name": "Python 3",
      "name": "python3"
    },
    "language_info": {
      "name": "python"
    }
  },
  "nbformat": 4,
  "nbformat_minor": 0
}
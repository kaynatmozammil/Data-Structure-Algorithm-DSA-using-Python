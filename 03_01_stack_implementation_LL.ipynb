{
  "nbformat": 4,
  "nbformat_minor": 0,
  "metadata": {
    "colab": {
      "provenance": [],
      "authorship_tag": "ABX9TyNuZT+wqLTy04tY8NoAcs4h",
      "include_colab_link": true
    },
    "kernelspec": {
      "name": "python3",
      "display_name": "Python 3"
    },
    "language_info": {
      "name": "python"
    }
  },
  "cells": [
    {
      "cell_type": "markdown",
      "metadata": {
        "id": "view-in-github",
        "colab_type": "text"
      },
      "source": [
        "<a href=\"https://colab.research.google.com/github/kaynatmozammil/Data-Structure-Algorithm-DSA-using-Python/blob/main/03_01_stack_implementation_LL.ipynb\" target=\"_parent\"><img src=\"https://colab.research.google.com/assets/colab-badge.svg\" alt=\"Open In Colab\"/></a>"
      ]
    },
    {
      "cell_type": "code",
      "execution_count": 17,
      "metadata": {
        "id": "tJ5YxSHukGaM"
      },
      "outputs": [],
      "source": [
        "class Node:\n",
        "\n",
        "  def __init__(self,value):\n",
        "    self.value = value\n",
        "    self.next = None\n",
        "\n",
        "class Stack:\n",
        "  def __init__(self):\n",
        "    self.top = None\n",
        "\n",
        "  def isempty(self):\n",
        "    return self.top == None\n",
        "\n",
        "  def push(self,value):\n",
        "    new_node = Node(value)\n",
        "    new_node.next = self.top\n",
        "    self.top = new_node\n",
        "\n",
        "  def peek(self):\n",
        "    if self.isempty():\n",
        "      return \"Stack empty\"\n",
        "    else:\n",
        "      return self.top.value\n",
        "\n",
        "  def travers(self):\n",
        "    temp = self.top\n",
        "    while temp:\n",
        "      print(temp.value)\n",
        "      temp = temp.next\n",
        "\n",
        "  def peek(self):\n",
        "    if self.isempty():\n",
        "      return None\n",
        "    else:\n",
        "      return self.top.value\n",
        "\n",
        "  def pop(self):\n",
        "    if self.isempty():\n",
        "      return None\n",
        "    else:\n",
        "      popped_node = self.top\n",
        "      self.top = self.top.next\n",
        "      popped_node.next = None\n",
        "      return popped_node.value\n",
        "\n",
        ""
      ]
    },
    {
      "cell_type": "code",
      "source": [
        "def revers_string(text):\n",
        "  stack = Stack()\n",
        "  for char in text:\n",
        "    stack.push(char)\n",
        "  reverse_text = \"\"\n",
        "  while not stack.isempty():\n",
        "    reverse_text += stack.pop()\n",
        "  return reverse_text\n",
        "\n"
      ],
      "metadata": {
        "id": "7vmudUd2oCP1"
      },
      "execution_count": 23,
      "outputs": []
    },
    {
      "cell_type": "code",
      "source": [
        "revers_string('kaynat')"
      ],
      "metadata": {
        "colab": {
          "base_uri": "https://localhost:8080/",
          "height": 35
        },
        "id": "ELzVuCJyoQs_",
        "outputId": "8c7adf82-2827-468d-8933-dbac2a5673ea"
      },
      "execution_count": 24,
      "outputs": [
        {
          "output_type": "execute_result",
          "data": {
            "text/plain": [
              "'tanyak'"
            ],
            "application/vnd.google.colaboratory.intrinsic+json": {
              "type": "string"
            }
          },
          "metadata": {},
          "execution_count": 24
        }
      ]
    },
    {
      "cell_type": "code",
      "source": [
        "def undo_redo(text, command):\n",
        "  stack_u = Stack()\n",
        "  stack_r = Stack()\n",
        "  for char in text:\n",
        "    stack_u.push(char)\n",
        "\n",
        "  for c in command:\n",
        "    if c == \"u\":\n",
        "      if not stack_u.isempty():\n",
        "        stack_r.push(stack_u.pop())\n",
        "\n",
        "    elif c == \"r\":\n",
        "      if not stack_r.isempty():\n",
        "        stack_u.push(stack_r.pop())\n",
        "\n",
        "  result = \"\"\n",
        "  while not stack_u.isempty():\n",
        "    result = stack_u.pop() + result\n",
        "  return result"
      ],
      "metadata": {
        "id": "RN8eR5cYpRr9"
      },
      "execution_count": 38,
      "outputs": []
    },
    {
      "cell_type": "code",
      "source": [
        "undo_redo('kaynat','uururrur')"
      ],
      "metadata": {
        "colab": {
          "base_uri": "https://localhost:8080/",
          "height": 35
        },
        "id": "RkNEB0goqAB4",
        "outputId": "18ee911b-ca3d-449a-f1a6-fed9557a8ae5"
      },
      "execution_count": 40,
      "outputs": [
        {
          "output_type": "execute_result",
          "data": {
            "text/plain": [
              "'kaynat'"
            ],
            "application/vnd.google.colaboratory.intrinsic+json": {
              "type": "string"
            }
          },
          "metadata": {},
          "execution_count": 40
        }
      ]
    },
    {
      "cell_type": "code",
      "source": [
        "s = Stack()"
      ],
      "metadata": {
        "id": "6qouEYW3mDws"
      },
      "execution_count": 18,
      "outputs": []
    },
    {
      "cell_type": "code",
      "source": [
        "s.push(1)\n",
        "s.push(2)\n",
        "s.push(3)\n",
        "s.push(4)"
      ],
      "metadata": {
        "id": "wUMfITzXmsHV"
      },
      "execution_count": 19,
      "outputs": []
    },
    {
      "cell_type": "code",
      "source": [
        "s.travers()"
      ],
      "metadata": {
        "colab": {
          "base_uri": "https://localhost:8080/"
        },
        "id": "trwwhRHbm-fC",
        "outputId": "66c6a80e-8556-4c97-f41d-54282eef2bd7"
      },
      "execution_count": 20,
      "outputs": [
        {
          "output_type": "stream",
          "name": "stdout",
          "text": [
            "4\n",
            "3\n",
            "2\n",
            "1\n"
          ]
        }
      ]
    },
    {
      "cell_type": "code",
      "source": [
        "s.pop()"
      ],
      "metadata": {
        "colab": {
          "base_uri": "https://localhost:8080/"
        },
        "id": "ON4ke-pdm-hX",
        "outputId": "5cc2fb3a-cdaa-4a32-aebb-fb7c3409675f"
      },
      "execution_count": 21,
      "outputs": [
        {
          "output_type": "execute_result",
          "data": {
            "text/plain": [
              "4"
            ]
          },
          "metadata": {},
          "execution_count": 21
        }
      ]
    },
    {
      "cell_type": "code",
      "source": [
        "s.travers()"
      ],
      "metadata": {
        "colab": {
          "base_uri": "https://localhost:8080/"
        },
        "id": "t7kze5cDnDff",
        "outputId": "05cad7c4-02b2-4c50-d946-411d495eafdc"
      },
      "execution_count": 22,
      "outputs": [
        {
          "output_type": "stream",
          "name": "stdout",
          "text": [
            "3\n",
            "2\n",
            "1\n"
          ]
        }
      ]
    },
    {
      "cell_type": "code",
      "source": [],
      "metadata": {
        "id": "mcBpbQfSoBfW"
      },
      "execution_count": null,
      "outputs": []
    },
    {
      "cell_type": "code",
      "source": [
        "s.peek()"
      ],
      "metadata": {
        "colab": {
          "base_uri": "https://localhost:8080/"
        },
        "id": "OGDbGsa4mtXw",
        "outputId": "8dc392de-3297-438c-cf79-9f1d03a341e0"
      },
      "execution_count": 16,
      "outputs": [
        {
          "output_type": "execute_result",
          "data": {
            "text/plain": [
              "4"
            ]
          },
          "metadata": {},
          "execution_count": 16
        }
      ]
    },
    {
      "cell_type": "code",
      "source": [
        "s.isempty()"
      ],
      "metadata": {
        "colab": {
          "base_uri": "https://localhost:8080/"
        },
        "id": "BD-HRVIKmRrt",
        "outputId": "c551838c-cac5-471a-f5f2-cf23ead5f624"
      },
      "execution_count": 9,
      "outputs": [
        {
          "output_type": "execute_result",
          "data": {
            "text/plain": [
              "True"
            ]
          },
          "metadata": {},
          "execution_count": 9
        }
      ]
    },
    {
      "cell_type": "code",
      "source": [
        "s.push(1)\n",
        "s.push(2)\n",
        "s.push(3)\n",
        "s.push(4)"
      ],
      "metadata": {
        "id": "rLrxxQJ-mDzb"
      },
      "execution_count": 10,
      "outputs": []
    },
    {
      "cell_type": "code",
      "source": [
        "s.isempty()"
      ],
      "metadata": {
        "colab": {
          "base_uri": "https://localhost:8080/"
        },
        "id": "tfeXYDOkmD1x",
        "outputId": "40ce65b1-233b-4662-f969-a301ce42ae16"
      },
      "execution_count": 11,
      "outputs": [
        {
          "output_type": "execute_result",
          "data": {
            "text/plain": [
              "False"
            ]
          },
          "metadata": {},
          "execution_count": 11
        }
      ]
    },
    {
      "cell_type": "code",
      "source": [
        "s.travers()"
      ],
      "metadata": {
        "colab": {
          "base_uri": "https://localhost:8080/"
        },
        "id": "kIjn1MtOmD4k",
        "outputId": "d24ce7be-eea4-49ef-faa8-da30e37cb2b0"
      },
      "execution_count": 12,
      "outputs": [
        {
          "output_type": "stream",
          "name": "stdout",
          "text": [
            "4\n",
            "3\n",
            "2\n",
            "1\n"
          ]
        }
      ]
    },
    {
      "cell_type": "code",
      "source": [],
      "metadata": {
        "id": "P4a_BttpmEHB"
      },
      "execution_count": null,
      "outputs": []
    }
  ]
}
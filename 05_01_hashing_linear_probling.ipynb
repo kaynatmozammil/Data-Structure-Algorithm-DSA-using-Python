{
  "nbformat": 4,
  "nbformat_minor": 0,
  "metadata": {
    "colab": {
      "provenance": [],
      "authorship_tag": "ABX9TyO5lLHGPZfhk/v6hMPq3844",
      "include_colab_link": true
    },
    "kernelspec": {
      "name": "python3",
      "display_name": "Python 3"
    },
    "language_info": {
      "name": "python"
    }
  },
  "cells": [
    {
      "cell_type": "markdown",
      "metadata": {
        "id": "view-in-github",
        "colab_type": "text"
      },
      "source": [
        "<a href=\"https://colab.research.google.com/github/kaynatmozammil/Data-Structure-Algorithm-DSA-using-Python/blob/main/05_01_hashing_linear_probling.ipynb\" target=\"_parent\"><img src=\"https://colab.research.google.com/assets/colab-badge.svg\" alt=\"Open In Colab\"/></a>"
      ]
    },
    {
      "cell_type": "code",
      "execution_count": 108,
      "metadata": {
        "id": "zk3fc4iAGWVN"
      },
      "outputs": [],
      "source": [
        "class Dictionary:\n",
        "\n",
        "  def __init__(self, size ):\n",
        "    self.size = size\n",
        "    self.slots = [None] * self.size\n",
        "    self.data = [None] * self.size\n",
        "\n",
        "  def put(self, key, value):\n",
        "\n",
        "    hash_value = self.hash_function(key)\n",
        "\n",
        "    if self.slots[hash_value] == None:\n",
        "      self.slots[hash_value] = key\n",
        "      self.data[hash_value] = value\n",
        "\n",
        "    else:\n",
        "\n",
        "      if self.slots[hash_value] == key:\n",
        "        self.data[hash_value] = value\n",
        "\n",
        "      else:\n",
        "        new_hash_value = self.rehash(hash_value)\n",
        "\n",
        "        while self.slots[new_hash_value] != None and self.slots[new_hash_value] != key:\n",
        "          new_hash_value = self.rehash(new_hash_value)\n",
        "\n",
        "        if self.slots[new_hash_value] == None:\n",
        "          self.slots[new_hash_value] = key\n",
        "          self.data[new_hash_value] = value\n",
        "\n",
        "        else:\n",
        "          self.data[new_hash_value] = value\n",
        "\n",
        "  def get(self, key):\n",
        "    start_position = self.hash_function(key)\n",
        "    current_position = start_position\n",
        "\n",
        "    while self.slots[current_position] != None:\n",
        "      if self.slots[current_position] == key:\n",
        "        return self.data[current_position]\n",
        "\n",
        "      current_position = self.rehash(current_position)\n",
        "\n",
        "      if current_position == start_position:\n",
        "        return \"Not found\"\n",
        "\n",
        "    return \"Not found\"\n",
        "\n",
        "  def __str__(self):\n",
        "\n",
        "    for i in range(len(self.slots)):\n",
        "      if self.slots[i] != None:\n",
        "        print(self.slots[i], \":\",self.data[i] , end = \"  \" )\n",
        "\n",
        "    return \" \"\n",
        "\n",
        "  def __getitem__(self, key):\n",
        "    return self.get(key)\n",
        "\n",
        "\n",
        "  def __setitem__(self, key, value):\n",
        "    self.put(key, value)\n",
        "\n",
        "  def hash_function(self, key):\n",
        "    return abs(hash(key)) % self.size\n",
        "\n",
        "  def rehash(self, ols_hash):\n",
        "    return (ols_hash + 1) % self.size\n",
        "\n",
        "\n",
        ""
      ]
    },
    {
      "cell_type": "code",
      "source": [
        "D1 = Dictionary(3)\n"
      ],
      "metadata": {
        "id": "EwEyJj7Hv_EQ"
      },
      "execution_count": 109,
      "outputs": []
    },
    {
      "cell_type": "code",
      "source": [
        "\n",
        "D1.slots"
      ],
      "metadata": {
        "colab": {
          "base_uri": "https://localhost:8080/"
        },
        "id": "MTclahbEwG0E",
        "outputId": "a05f89fa-851f-4144-b70a-89f47e1dc434"
      },
      "execution_count": 85,
      "outputs": [
        {
          "output_type": "execute_result",
          "data": {
            "text/plain": [
              "[None, None, None]"
            ]
          },
          "metadata": {},
          "execution_count": 85
        }
      ]
    },
    {
      "cell_type": "code",
      "source": [
        "print(D1.slots)\n",
        "print(D1.data)"
      ],
      "metadata": {
        "colab": {
          "base_uri": "https://localhost:8080/"
        },
        "id": "NClI9oRuv_G_",
        "outputId": "98b47360-23cf-4766-e1bb-ee19520755cc"
      },
      "execution_count": 104,
      "outputs": [
        {
          "output_type": "stream",
          "name": "stdout",
          "text": [
            "[None, None, None]\n",
            "[None, None, None]\n"
          ]
        }
      ]
    },
    {
      "cell_type": "code",
      "source": [
        "D1.put(\"python\",3)\n",
        "D1.put(\"java\",2)\n"
      ],
      "metadata": {
        "id": "nlWMByqav_JE"
      },
      "execution_count": 110,
      "outputs": []
    },
    {
      "cell_type": "code",
      "source": [
        "D1.__str__()"
      ],
      "metadata": {
        "colab": {
          "base_uri": "https://localhost:8080/",
          "height": 53
        },
        "id": "t1CyCcxx14_f",
        "outputId": "656ae7bc-21e6-41fd-839c-985e615291dd"
      },
      "execution_count": 111,
      "outputs": [
        {
          "output_type": "stream",
          "name": "stdout",
          "text": [
            "python : 3  java : 2  "
          ]
        },
        {
          "output_type": "execute_result",
          "data": {
            "text/plain": [
              "' '"
            ],
            "application/vnd.google.colaboratory.intrinsic+json": {
              "type": "string"
            }
          },
          "metadata": {},
          "execution_count": 111
        }
      ]
    },
    {
      "cell_type": "code",
      "source": [
        "print(D1)"
      ],
      "metadata": {
        "colab": {
          "base_uri": "https://localhost:8080/"
        },
        "id": "GOU8i6mm19fi",
        "outputId": "0f1bb7b0-2b64-4b98-f36d-71320acd5a57"
      },
      "execution_count": 112,
      "outputs": [
        {
          "output_type": "stream",
          "name": "stdout",
          "text": [
            "python : 3  java : 2   \n"
          ]
        }
      ]
    },
    {
      "cell_type": "code",
      "source": [
        "D1[\"python\"]"
      ],
      "metadata": {
        "colab": {
          "base_uri": "https://localhost:8080/"
        },
        "id": "D2749ZJU1dR6",
        "outputId": "4126e6da-960e-4b09-8d13-d8e3d38c13a8"
      },
      "execution_count": 89,
      "outputs": [
        {
          "output_type": "execute_result",
          "data": {
            "text/plain": [
              "3"
            ]
          },
          "metadata": {},
          "execution_count": 89
        }
      ]
    },
    {
      "cell_type": "code",
      "source": [
        "\n",
        "print(D1.slots)\n",
        "print(D1.data)"
      ],
      "metadata": {
        "colab": {
          "base_uri": "https://localhost:8080/"
        },
        "id": "cF8qcW3WHejo",
        "outputId": "733f0017-b3f7-4aea-a895-60d357bc70f7"
      },
      "execution_count": 77,
      "outputs": [
        {
          "output_type": "stream",
          "name": "stdout",
          "text": [
            "['python', 'java', None]\n",
            "[3, 2, None]\n"
          ]
        }
      ]
    },
    {
      "cell_type": "code",
      "source": [
        "D1.get('None')"
      ],
      "metadata": {
        "colab": {
          "base_uri": "https://localhost:8080/",
          "height": 35
        },
        "id": "J-BhN01h02G8",
        "outputId": "20120d62-4974-4508-cc5a-733fc64a671e"
      },
      "execution_count": 82,
      "outputs": [
        {
          "output_type": "execute_result",
          "data": {
            "text/plain": [
              "'Not found'"
            ],
            "application/vnd.google.colaboratory.intrinsic+json": {
              "type": "string"
            }
          },
          "metadata": {},
          "execution_count": 82
        }
      ]
    },
    {
      "cell_type": "code",
      "source": [],
      "metadata": {
        "id": "nTkxRP9r02EN"
      },
      "execution_count": null,
      "outputs": []
    },
    {
      "cell_type": "code",
      "source": [
        "D1[\"C\"] = 2022"
      ],
      "metadata": {
        "id": "QOhAcjpgyyCw"
      },
      "execution_count": 68,
      "outputs": []
    },
    {
      "cell_type": "code",
      "source": [
        "D1['python'] = 1911"
      ],
      "metadata": {
        "id": "uZ2Rcxw3zGay"
      },
      "execution_count": 70,
      "outputs": []
    },
    {
      "cell_type": "code",
      "source": [
        "hash(\"python\") % 5"
      ],
      "metadata": {
        "colab": {
          "base_uri": "https://localhost:8080/"
        },
        "id": "Jac2H8c5HeoH",
        "outputId": "9d104bf8-fdc5-42a6-a8d5-2e8e911ff83e"
      },
      "execution_count": 6,
      "outputs": [
        {
          "output_type": "execute_result",
          "data": {
            "text/plain": [
              "0"
            ]
          },
          "metadata": {},
          "execution_count": 6
        }
      ]
    },
    {
      "cell_type": "code",
      "source": [
        "hash(\"python\")"
      ],
      "metadata": {
        "colab": {
          "base_uri": "https://localhost:8080/"
        },
        "id": "dOSObtDaHeq9",
        "outputId": "1f426d26-c41a-457e-c97d-08b25f36a6fc"
      },
      "execution_count": 5,
      "outputs": [
        {
          "output_type": "execute_result",
          "data": {
            "text/plain": [
              "6993326017659054525"
            ]
          },
          "metadata": {},
          "execution_count": 5
        }
      ]
    }
  ]
}
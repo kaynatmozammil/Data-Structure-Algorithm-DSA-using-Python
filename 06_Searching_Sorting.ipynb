{
  "nbformat": 4,
  "nbformat_minor": 0,
  "metadata": {
    "colab": {
      "provenance": [],
      "authorship_tag": "ABX9TyMvrYnMFzKq1QKrZT4316Cc",
      "include_colab_link": true
    },
    "kernelspec": {
      "name": "python3",
      "display_name": "Python 3"
    },
    "language_info": {
      "name": "python"
    }
  },
  "cells": [
    {
      "cell_type": "markdown",
      "metadata": {
        "id": "view-in-github",
        "colab_type": "text"
      },
      "source": [
        "<a href=\"https://colab.research.google.com/github/kaynatmozammil/Data-Structure-Algorithm-DSA-using-Python/blob/main/06_Searching_Sorting.ipynb\" target=\"_parent\"><img src=\"https://colab.research.google.com/assets/colab-badge.svg\" alt=\"Open In Colab\"/></a>"
      ]
    },
    {
      "cell_type": "markdown",
      "source": [
        "### Searching\n",
        "Types of Searching\n",
        "Searching can be broadly divided into two categories:\n",
        "\n",
        "A. Linear Search (Sequential Search)\n",
        "Checks each element one by one until the element is found or the list ends.\n",
        "\n",
        "Time Complexity:\n",
        "\n",
        "Worst Case: O(n)\n",
        "\n",
        "Best Case: O(1) (element at the first position)\n",
        "\n",
        "Space Complexity: O(1)\n",
        "\n",
        "Works on unsorted data."
      ],
      "metadata": {
        "id": "D8NKMIwlSrYb"
      }
    },
    {
      "cell_type": "code",
      "execution_count": null,
      "metadata": {
        "colab": {
          "base_uri": "https://localhost:8080/"
        },
        "id": "wnU10E0iSTSr",
        "outputId": "99cd052e-946d-4897-f3e7-e54900b5867b"
      },
      "outputs": [
        {
          "output_type": "stream",
          "name": "stdout",
          "text": [
            "-1\n"
          ]
        }
      ],
      "source": [
        "def linear_search(arr, target):\n",
        "    for i in range(len(arr)):\n",
        "        if arr[i] == target:\n",
        "            return i\n",
        "    return -1\n",
        "\n",
        "arr = [5, 2, 8, 4, 1]\n",
        "print(linear_search(arr, 44))\n"
      ]
    },
    {
      "cell_type": "markdown",
      "source": [
        "B. Binary Search\n",
        "Much faster but only works on sorted arrays.\n",
        "\n",
        "Repeatedly divides the search interval in half.\n",
        "\n",
        "Time Complexity:\n",
        "\n",
        "Worst Case: O(log n)\n",
        "\n",
        "Best Case: O(1)\n",
        "\n",
        "Space Complexity: O(1) (iterative) or O(log n) (recursive).\n",
        "\n",
        "Example (Iterative):"
      ],
      "metadata": {
        "id": "EDoZcQqUTDor"
      }
    },
    {
      "cell_type": "code",
      "source": [
        "def binary_search(arr, target):\n",
        "    low = 0\n",
        "    high = len(arr) - 1\n",
        "\n",
        "    while low <= high:\n",
        "        mid = (low + high) // 2\n",
        "        if arr[mid] == target:\n",
        "            return mid\n",
        "        elif arr[mid] < target:\n",
        "            low = mid + 1\n",
        "        else:\n",
        "            high = mid - 1\n",
        "    return -1\n",
        "\n",
        "arr = [1, 2, 4, 5, 8, 10]\n",
        "print(binary_search(arr, 5))\n"
      ],
      "metadata": {
        "colab": {
          "base_uri": "https://localhost:8080/"
        },
        "id": "4l3tGJ0tTK5t",
        "outputId": "fa725da9-8392-45a2-edbe-2a5a2a3267b1"
      },
      "execution_count": null,
      "outputs": [
        {
          "output_type": "stream",
          "name": "stdout",
          "text": [
            "3\n"
          ]
        }
      ]
    },
    {
      "cell_type": "code",
      "source": [
        "def binary_search_recursive(arr, target, low, high):\n",
        "  print(\"low= \", low , \"high= \", high , end = \" \")\n",
        "  if low <= high:\n",
        "    mid = (low + high) // 2\n",
        "\n",
        "    print(\"mid value is\" , arr[mid])\n",
        "    if arr[mid] == target:\n",
        "        return mid\n",
        "    elif arr[mid] < target:\n",
        "        print(\"target is greater than mid value\")\n",
        "        return binary_search_recursive(arr, target, mid + 1, high)\n",
        "    else:\n",
        "        print(\"target is less than mid value\")\n",
        "        return binary_search_recursive(arr, target, low, mid - 1)\n",
        "  return -1\n"
      ],
      "metadata": {
        "id": "KP4eq-SOe6nV"
      },
      "execution_count": null,
      "outputs": []
    },
    {
      "cell_type": "code",
      "source": [
        "arr = [12, 24, 34, 82 , 99 ,100]\n",
        "binary_search_recursive(arr, 12, 0, len(arr)-1)"
      ],
      "metadata": {
        "colab": {
          "base_uri": "https://localhost:8080/"
        },
        "id": "3dT8vfsKfkUo",
        "outputId": "3359a199-eec4-4da8-e89c-1ca5e6c0f591"
      },
      "execution_count": null,
      "outputs": [
        {
          "output_type": "stream",
          "name": "stdout",
          "text": [
            "low=  0 high=  5 mid value is 34\n",
            "target is less than mid value\n",
            "low=  0 high=  1 mid value is 12\n"
          ]
        },
        {
          "output_type": "execute_result",
          "data": {
            "text/plain": [
              "0"
            ]
          },
          "metadata": {},
          "execution_count": 23
        }
      ]
    },
    {
      "cell_type": "code",
      "source": [],
      "metadata": {
        "id": "FIBpzSKufpvW"
      },
      "execution_count": null,
      "outputs": []
    },
    {
      "cell_type": "markdown",
      "source": [
        "Other Searching Techniques in DSA\n",
        "Method\tUse Case\n",
        "\n",
        "- Jump Search\tWorks on sorted arrays, jumps in fixed steps.\n",
        "- Interpolation Search\tGood when data is uniformly distributed.\n",
        "- Exponential Search\tFor unbounded/infinite lists.\n",
        "- Hashing\tDirectly stores and retrieves in O(1) average time.\n",
        "- Ternary Search\tDivides into three parts (works on sorted data)."
      ],
      "metadata": {
        "id": "bRmouyK_TsoB"
      }
    },
    {
      "cell_type": "code",
      "source": [],
      "metadata": {
        "id": "XoTl8oOKit44"
      },
      "execution_count": null,
      "outputs": []
    },
    {
      "cell_type": "code",
      "source": [],
      "metadata": {
        "id": "bYtvDD8Zis3z"
      },
      "execution_count": null,
      "outputs": []
    },
    {
      "cell_type": "markdown",
      "source": [
        "### Sortingng"
      ],
      "metadata": {
        "id": "OkwejOiB0Rj5"
      }
    },
    {
      "cell_type": "code",
      "source": [
        "def is_sorted(arr):\n",
        "\n",
        "  sorted = True\n",
        "  for i in range(len(arr)-1):\n",
        "    if arr[i] > arr[i+1]:\n",
        "      sorted = False\n",
        "\n",
        "  return sorted"
      ],
      "metadata": {
        "id": "zq_ZSv2h0Zm2"
      },
      "execution_count": null,
      "outputs": []
    },
    {
      "cell_type": "code",
      "source": [
        "arr = [1,2,3,4,5,4]\n",
        "is_sorted(arr)"
      ],
      "metadata": {
        "colab": {
          "base_uri": "https://localhost:8080/"
        },
        "id": "55TIxdR10uDZ",
        "outputId": "789dd10b-41b1-448b-876f-43f1c91f8f40"
      },
      "execution_count": null,
      "outputs": [
        {
          "output_type": "execute_result",
          "data": {
            "text/plain": [
              "False"
            ]
          },
          "metadata": {},
          "execution_count": 28
        }
      ]
    },
    {
      "cell_type": "code",
      "source": [
        "# Monkey sort\n",
        "\n",
        "import random\n",
        "a = [1,2,3,4,5,6,7,8,9]\n",
        "random.shuffle(a)\n",
        "a"
      ],
      "metadata": {
        "colab": {
          "base_uri": "https://localhost:8080/"
        },
        "id": "rWOn_8EH0x4G",
        "outputId": "aaf1cc49-91ba-441f-fd85-1e41b5453a79"
      },
      "execution_count": null,
      "outputs": [
        {
          "output_type": "execute_result",
          "data": {
            "text/plain": [
              "[8, 9, 1, 3, 2, 6, 7, 4, 5]"
            ]
          },
          "metadata": {},
          "execution_count": 34
        }
      ]
    },
    {
      "cell_type": "code",
      "source": [
        "def monkey_sort(arr):\n",
        "\n",
        "  while not is_sorted(arr):\n",
        "    random.shuffle(arr)\n",
        "    print(arr)\n",
        "\n",
        "  print(arr)"
      ],
      "metadata": {
        "id": "MELYGoN32AZ0"
      },
      "execution_count": null,
      "outputs": []
    },
    {
      "cell_type": "code",
      "source": [
        "monkey_sort([23,11,33,2,11])"
      ],
      "metadata": {
        "colab": {
          "base_uri": "https://localhost:8080/"
        },
        "id": "r8rO4NFg2Qs6",
        "outputId": "c623415a-5389-4410-bbfd-385c89eba7fb"
      },
      "execution_count": null,
      "outputs": [
        {
          "output_type": "stream",
          "name": "stdout",
          "text": [
            "[2, 33, 11, 23, 11]\n",
            "[23, 33, 11, 2, 11]\n",
            "[11, 33, 11, 2, 23]\n",
            "[23, 11, 2, 33, 11]\n",
            "[2, 11, 23, 11, 33]\n",
            "[33, 2, 11, 23, 11]\n",
            "[11, 2, 11, 33, 23]\n",
            "[33, 23, 2, 11, 11]\n",
            "[2, 23, 33, 11, 11]\n",
            "[2, 33, 23, 11, 11]\n",
            "[33, 11, 23, 11, 2]\n",
            "[11, 2, 33, 23, 11]\n",
            "[23, 2, 33, 11, 11]\n",
            "[2, 11, 33, 23, 11]\n",
            "[11, 11, 33, 2, 23]\n",
            "[33, 11, 2, 23, 11]\n",
            "[33, 11, 11, 2, 23]\n",
            "[33, 23, 11, 2, 11]\n",
            "[11, 2, 33, 11, 23]\n",
            "[11, 11, 2, 33, 23]\n",
            "[11, 23, 2, 11, 33]\n",
            "[23, 2, 33, 11, 11]\n",
            "[33, 11, 11, 23, 2]\n",
            "[2, 33, 11, 11, 23]\n",
            "[23, 33, 2, 11, 11]\n",
            "[11, 11, 33, 2, 23]\n",
            "[23, 2, 33, 11, 11]\n",
            "[33, 23, 11, 2, 11]\n",
            "[2, 11, 33, 23, 11]\n",
            "[11, 33, 23, 11, 2]\n",
            "[33, 11, 2, 23, 11]\n",
            "[11, 11, 23, 2, 33]\n",
            "[23, 11, 11, 33, 2]\n",
            "[11, 33, 2, 23, 11]\n",
            "[33, 11, 11, 2, 23]\n",
            "[11, 23, 11, 2, 33]\n",
            "[23, 11, 11, 2, 33]\n",
            "[2, 11, 33, 23, 11]\n",
            "[33, 23, 11, 2, 11]\n",
            "[11, 2, 11, 23, 33]\n",
            "[23, 11, 2, 11, 33]\n",
            "[23, 11, 2, 33, 11]\n",
            "[11, 2, 11, 23, 33]\n",
            "[23, 11, 11, 2, 33]\n",
            "[11, 33, 2, 11, 23]\n",
            "[23, 2, 33, 11, 11]\n",
            "[11, 11, 2, 33, 23]\n",
            "[23, 11, 33, 2, 11]\n",
            "[2, 11, 11, 23, 33]\n",
            "[2, 11, 11, 23, 33]\n"
          ]
        }
      ]
    },
    {
      "cell_type": "code",
      "source": [
        "# sleep sort\n",
        "\n",
        "import threading\n",
        "import time\n",
        "\n",
        "def sleep_sort(arr):\n",
        "    def sleeper(x):\n",
        "        time.sleep(x)  # sleep for value of x seconds\n",
        "        print(x, end=' ')\n",
        "\n",
        "    threads = []\n",
        "    for num in arr:\n",
        "        t = threading.Thread(target=sleeper, args=(num,))\n",
        "        threads.append(t)\n",
        "        t.start()\n",
        "\n",
        "    for t in threads:\n",
        "        t.join()\n",
        "\n",
        "# Example\n",
        "sleep_sort([3, 1, 4, 2])\n"
      ],
      "metadata": {
        "colab": {
          "base_uri": "https://localhost:8080/"
        },
        "id": "425yedXO2yHs",
        "outputId": "8f21fffe-b4f5-4cbd-deda-9a18e332b2df"
      },
      "execution_count": null,
      "outputs": [
        {
          "output_type": "stream",
          "name": "stdout",
          "text": [
            "1 2 3 4 "
          ]
        }
      ]
    },
    {
      "cell_type": "markdown",
      "source": [
        "What is Sorting?\n",
        "Sorting is the process of arranging data in a particular order, usually:\n",
        "\n",
        "Ascending order (small → large)\n",
        "\n",
        "Descending order (large → small)\n",
        "\n",
        "Sorting helps in:\n",
        "\n",
        "Faster searching (e.g., Binary Search)\n",
        "\n",
        "Easier data analysis\n",
        "\n",
        "Efficient algorithms (many depend on sorted data)\n",
        "\n",
        "Types of Sorting Algorithms\n",
        "A. Simple / Basic Sorting\n",
        "1. Bubble Sort : -\n",
        "Repeatedly compares adjacent elements and swaps them if they are in the wrong order.\n",
        "\n",
        "Time Complexity: O(n²) worst case, O(n) best case (already sorted)\n",
        "\n",
        "Space Complexity: O(1)\n"
      ],
      "metadata": {
        "id": "d27tI59G4CMX"
      }
    },
    {
      "cell_type": "code",
      "source": [
        "def bubble_sort(arr):\n",
        "\n",
        "    for i in range(len(arr) - 1):\n",
        "      flag = 0\n",
        "      for j in range(len(arr) - i - 1):\n",
        "          if arr[j] > arr[j+1]:\n",
        "              arr[j], arr[j+1] = arr[j+1], arr[j]\n",
        "              flag = 1\n",
        "      if flag == 0:\n",
        "        break\n",
        "\n",
        "arr = [5, 2, 8, 4, 1]\n",
        "bubble_sort(arr)\n",
        "print(arr)\n"
      ],
      "metadata": {
        "colab": {
          "base_uri": "https://localhost:8080/"
        },
        "id": "Tgf870tc4Oge",
        "outputId": "3bdd9cce-faa6-48fb-f9a3-020568bd8d0d"
      },
      "execution_count": null,
      "outputs": [
        {
          "output_type": "stream",
          "name": "stdout",
          "text": [
            "[1, 2, 4, 5, 8]\n"
          ]
        }
      ]
    },
    {
      "cell_type": "markdown",
      "source": [
        "**Selection Sort**\n",
        "Finds the minimum element and places it at the beginning.\n",
        "\n",
        "Time Complexity: O(n²)\n",
        "\n",
        "Space Complexity: O(1)"
      ],
      "metadata": {
        "id": "BNjg6ycTYj6V"
      }
    },
    {
      "cell_type": "code",
      "source": [
        "def selection_sort(arr):\n",
        "    n = len(arr)\n",
        "    for i in range(n - 1):\n",
        "        min_index = i\n",
        "        for j in range(i+1, n):\n",
        "            if arr[j] < arr[min_index]:\n",
        "                min_index = j\n",
        "        arr[i], arr[min_index] = arr[min_index], arr[i]\n",
        "\n",
        "arr = [5, 2, 8, 4, 1]\n",
        "selection_sort(arr)\n",
        "print(arr)\n"
      ],
      "metadata": {
        "colab": {
          "base_uri": "https://localhost:8080/"
        },
        "id": "wK1Tuf9pYsay",
        "outputId": "639a4a7e-1c18-46a8-dc42-fdae6e2cafa8"
      },
      "execution_count": null,
      "outputs": [
        {
          "output_type": "stream",
          "name": "stdout",
          "text": [
            "[1, 2, 4, 5, 8]\n"
          ]
        }
      ]
    },
    {
      "cell_type": "markdown",
      "source": [
        "**Insertion Sort**\n",
        "Builds the sorted list one element at a time.\n",
        "\n",
        "Time Complexity: O(n²) worst, O(n) best (already sorted)\n",
        "\n",
        "Space Complexity: O(1)"
      ],
      "metadata": {
        "id": "SXzWslrzZeX8"
      }
    },
    {
      "cell_type": "code",
      "source": [
        "def insertion_sort(arr):\n",
        "    for i in range(1, len(arr)):\n",
        "        key = arr[i]\n",
        "        j = i - 1\n",
        "        while j >= 0 and key < arr[j]:\n",
        "            arr[j+1] = arr[j]\n",
        "            j -= 1\n",
        "        arr[j+1] = key\n",
        "\n",
        "arr = [5, 2, 8, 4, 1]\n",
        "insertion_sort(arr)\n",
        "print(arr)\n"
      ],
      "metadata": {
        "colab": {
          "base_uri": "https://localhost:8080/"
        },
        "id": "gwnxKqlKZlGU",
        "outputId": "3f97539b-a594-46fd-eb00-594d0ba37712"
      },
      "execution_count": null,
      "outputs": [
        {
          "output_type": "stream",
          "name": "stdout",
          "text": [
            "[1, 2, 4, 5, 8]\n"
          ]
        }
      ]
    },
    {
      "cell_type": "markdown",
      "source": [
        "B. Efficient Sorting\n",
        "\n",
        "**Merge Sort**\n",
        "Uses Divide and Conquer.\n",
        "\n",
        "Splits array → sorts each half → merges them.\n",
        "\n",
        "Time Complexity: O(n log n) in all cases\n",
        "\n",
        "Space Complexity: O(n)\n",
        "\n",
        "python\n",
        "Copy code\n"
      ],
      "metadata": {
        "id": "B9G9UAE1bepO"
      }
    },
    {
      "cell_type": "code",
      "source": [
        "def merge_sort(arr):\n",
        "    if len(arr) > 1:\n",
        "        mid = len(arr) // 2\n",
        "        left = arr[:mid]\n",
        "        right = arr[mid:]\n",
        "\n",
        "        merge_sort(left)\n",
        "        merge_sort(right)\n",
        "\n",
        "        i = j = k = 0\n",
        "        while i < len(left) and j < len(right):\n",
        "            if left[i] < right[j]:\n",
        "                arr[k] = left[i]\n",
        "                i += 1\n",
        "            else:\n",
        "                arr[k] = right[j]\n",
        "                j += 1\n",
        "            k += 1\n",
        "\n",
        "        while i < len(left):\n",
        "            arr[k] = left[i]\n",
        "            i += 1\n",
        "            k += 1\n",
        "        while j < len(right):\n",
        "            arr[k] = right[j]\n",
        "            j += 1\n",
        "            k += 1\n",
        "\n",
        "arr = [5, 2, 8, 4, 1]\n",
        "merge_sort(arr)\n",
        "print(arr)\n"
      ],
      "metadata": {
        "colab": {
          "base_uri": "https://localhost:8080/"
        },
        "id": "QQlT4z_MbnjZ",
        "outputId": "cdcb25b0-130f-4912-8033-7242a5481756"
      },
      "execution_count": null,
      "outputs": [
        {
          "output_type": "stream",
          "name": "stdout",
          "text": [
            "[1, 2, 4, 5, 8]\n"
          ]
        }
      ]
    },
    {
      "cell_type": "markdown",
      "source": [
        "**Quick Sort** : -\n",
        "Divide and Conquer + Partition.\n",
        "\n",
        "Picks a pivot, partitions array into smaller & greater elements, then sorts recursively.\n",
        "\n",
        "Time Complexity: O(n log n) average, O(n²) worst (if pivot is bad)\n",
        "\n",
        "Space Complexity: O(log n) (recursive stack)"
      ],
      "metadata": {
        "id": "SH1eGYypbwH8"
      }
    },
    {
      "cell_type": "code",
      "source": [
        "def quick_sort(arr):\n",
        "    if len(arr) <= 1:\n",
        "        return arr\n",
        "    pivot = arr[len(arr) // 2]\n",
        "    left = [x for x in arr if x < pivot]\n",
        "    middle = [x for x in arr if x == pivot]\n",
        "    right = [x for x in arr if x > pivot]\n",
        "    return quick_sort(left) + middle + quick_sort(right)\n",
        "\n",
        "arr = [5, 2, 8, 4, 1]\n",
        "print(quick_sort(arr))\n"
      ],
      "metadata": {
        "id": "vdT-cW1Rbz8P"
      },
      "execution_count": null,
      "outputs": []
    }
  ]
}
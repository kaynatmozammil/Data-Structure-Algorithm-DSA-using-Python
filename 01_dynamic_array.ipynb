{
  "nbformat": 4,
  "nbformat_minor": 0,
  "metadata": {
    "colab": {
      "provenance": [],
      "authorship_tag": "ABX9TyM3noiEcj6pre1AeMeWWMy3",
      "include_colab_link": true
    },
    "kernelspec": {
      "name": "python3",
      "display_name": "Python 3"
    },
    "language_info": {
      "name": "python"
    }
  },
  "cells": [
    {
      "cell_type": "markdown",
      "metadata": {
        "id": "view-in-github",
        "colab_type": "text"
      },
      "source": [
        "<a href=\"https://colab.research.google.com/github/kaynatmozammil/Data-Structure-Algorithm-DSA-using-Python/blob/main/dynamic_array.ipynb\" target=\"_parent\"><img src=\"https://colab.research.google.com/assets/colab-badge.svg\" alt=\"Open In Colab\"/></a>"
      ]
    },
    {
      "cell_type": "code",
      "execution_count": null,
      "metadata": {
        "id": "j4MqvKL-jw6l"
      },
      "outputs": [],
      "source": [
        "import ctypes"
      ]
    },
    {
      "cell_type": "code",
      "source": [
        "\n",
        "class MeraList:\n",
        "\n",
        "  def __init__(self):\n",
        "    self.size = 1           # initial capacity of array\n",
        "    self.n = 0              # number of actual elements\n",
        "    self.A = self.__create_array(self.size)\n",
        "\n",
        "  def __len__(self):\n",
        "    return self.n\n",
        "\n",
        "  def __str__(self):\n",
        "    # Return string like: [1, 2, 3]\n",
        "    result = ''\n",
        "    for i in range(self.n):\n",
        "      result += str(self.A[i]) + ','\n",
        "    return '[' + result[:-1] + ']'\n",
        "\n",
        "  def __getitem__(self, index):\n",
        "    # Return item at index if valid\n",
        "    if 0 <= index < self.n:\n",
        "      return self.A[index]\n",
        "    else:\n",
        "      return 'IndexError: Index out of range'\n",
        "\n",
        "  def __delitem__(self, pos):\n",
        "    # Delete item at index pos\n",
        "    if 0 <= pos < self.n:\n",
        "      for i in range(pos, self.n - 1):\n",
        "        self.A[i] = self.A[i + 1]\n",
        "      self.n -= 1\n",
        "\n",
        "  def append(self, item):\n",
        "    # Append new item to list\n",
        "    if self.n == self.size:\n",
        "      self.__resize(self.size * 2)\n",
        "    self.A[self.n] = item\n",
        "    self.n += 1\n",
        "\n",
        "  def pop(self):\n",
        "    # Remove and return last item\n",
        "    if self.n == 0:\n",
        "      return 'Empty List'\n",
        "    val = self.A[self.n - 1]\n",
        "    self.n -= 1\n",
        "    return val\n",
        "\n",
        "  def clear(self):\n",
        "    # Clear the list\n",
        "    self.n = 0\n",
        "    self.size = 1\n",
        "    self.A = self.__create_array(self.size)\n",
        "\n",
        "  def index(self, item):\n",
        "    # Return first index of item\n",
        "    for i in range(self.n):\n",
        "      if self.A[i] == item:\n",
        "        return i\n",
        "    return 'ValueError: Item not found'\n",
        "\n",
        "  def insert(self, pos, item):\n",
        "    # Insert item at position pos\n",
        "    if self.n == self.size:\n",
        "      self.__resize(self.size * 2)\n",
        "    for i in range(self.n, pos, -1):\n",
        "      self.A[i] = self.A[i - 1]\n",
        "    self.A[pos] = item\n",
        "    self.n += 1\n",
        "\n",
        "  def remove(self, item):\n",
        "    # Remove first occurrence of item\n",
        "    pos = self.index(item)\n",
        "    if isinstance(pos, int):\n",
        "      self.__delitem__(pos)\n",
        "    else:\n",
        "      return pos\n",
        "\n",
        "  def __resize(self, new_capacity):\n",
        "    # Resize array to new_capacity\n",
        "    B = self.__create_array(new_capacity)\n",
        "    for i in range(self.n):\n",
        "      B[i] = self.A[i]\n",
        "    self.A = B\n",
        "    self.size = new_capacity\n",
        "\n",
        "  def __create_array(self, capacity):\n",
        "    # Create a low-level array using ctypes\n",
        "    return (capacity * ctypes.py_object)()\n",
        "\n",
        "  # --- Additional Functionalities ---\n",
        "\n",
        "  def sort(self):\n",
        "    # Sort list in ascending order using bubble sort\n",
        "    for i in range(self.n):\n",
        "      for j in range(0, self.n - i - 1):\n",
        "        if self.A[j] > self.A[j + 1]:\n",
        "          self.A[j], self.A[j + 1] = self.A[j + 1], self.A[j]\n",
        "\n",
        "  def reverse(self):\n",
        "    # Reverse the list in-place\n",
        "    for i in range(self.n // 2):\n",
        "      self.A[i], self.A[self.n - 1 - i] = self.A[self.n - 1 - i], self.A[i]\n",
        "\n",
        "  def min(self):\n",
        "    # Return minimum element\n",
        "    if self.n == 0:\n",
        "      return 'Empty List'\n",
        "    minimum = self.A[0]\n",
        "    for i in range(1, self.n):\n",
        "      if self.A[i] < minimum:\n",
        "        minimum = self.A[i]\n",
        "    return minimum\n",
        "\n",
        "  def max(self):\n",
        "    # Return maximum element\n",
        "    if self.n == 0:\n",
        "      return 'Empty List'\n",
        "    maximum = self.A[0]\n",
        "    for i in range(1, self.n):\n",
        "      if self.A[i] > maximum:\n",
        "        maximum = self.A[i]\n",
        "    return maximum\n"
      ],
      "metadata": {
        "id": "ypPvGz3slNKP"
      },
      "execution_count": null,
      "outputs": []
    },
    {
      "cell_type": "code",
      "source": [
        "ml = MeraList()\n",
        "ml.append(3)\n",
        "ml.append(1)\n",
        "ml.append(2)\n",
        "print(ml)        # [3,1,2]\n",
        "ml.sort()\n",
        "print(ml)        # [1,2,3]\n",
        "print(ml.min())  # 1\n",
        "print(ml.max())  # 3\n",
        "ml.reverse()\n",
        "print(ml)        # [3,2,1]\n"
      ],
      "metadata": {
        "id": "us82PDAS7DpQ",
        "outputId": "a075b1a3-7abf-4b37-d59e-0f78969cc275",
        "colab": {
          "base_uri": "https://localhost:8080/"
        }
      },
      "execution_count": null,
      "outputs": [
        {
          "output_type": "stream",
          "name": "stdout",
          "text": [
            "[3,1,2]\n",
            "[1,2,3]\n",
            "1\n",
            "3\n",
            "[3,2,1]\n"
          ]
        }
      ]
    },
    {
      "cell_type": "code",
      "source": [
        "L = MeraList()"
      ],
      "metadata": {
        "id": "9BXgPLlRlNNk"
      },
      "execution_count": null,
      "outputs": []
    },
    {
      "cell_type": "code",
      "source": [
        "L.append('hellow')\n",
        "L.append(3.4)\n",
        "L.append(True)\n",
        "L.append(100)"
      ],
      "metadata": {
        "id": "FGIyN1eeDH6k"
      },
      "execution_count": null,
      "outputs": []
    },
    {
      "cell_type": "code",
      "source": [
        "print(L)"
      ],
      "metadata": {
        "colab": {
          "base_uri": "https://localhost:8080/"
        },
        "id": "ROFWaodr5ddE",
        "outputId": "a81f9be1-3ccd-4444-f290-22b66eb6e7c4"
      },
      "execution_count": null,
      "outputs": [
        {
          "output_type": "stream",
          "name": "stdout",
          "text": [
            "[hellow,3.4,True,100]\n"
          ]
        }
      ]
    },
    {
      "cell_type": "code",
      "source": [
        "L.remove('hellow')"
      ],
      "metadata": {
        "colab": {
          "base_uri": "https://localhost:8080/",
          "height": 35
        },
        "id": "jB-QvG1R5dfn",
        "outputId": "e3aee877-e3c3-4c51-d60f-7a5682057103"
      },
      "execution_count": null,
      "outputs": [
        {
          "output_type": "execute_result",
          "data": {
            "text/plain": [
              "'ValueError: Item not found'"
            ],
            "application/vnd.google.colaboratory.intrinsic+json": {
              "type": "string"
            }
          },
          "metadata": {},
          "execution_count": 93
        }
      ]
    },
    {
      "cell_type": "code",
      "source": [
        "print(L)"
      ],
      "metadata": {
        "colab": {
          "base_uri": "https://localhost:8080/"
        },
        "id": "nCru_7EP3qrO",
        "outputId": "74aed4a4-54a1-4013-f0d1-0fa3da4b638c"
      },
      "execution_count": null,
      "outputs": [
        {
          "output_type": "stream",
          "name": "stdout",
          "text": [
            "[3.4,True,100]\n"
          ]
        }
      ]
    },
    {
      "cell_type": "code",
      "source": [
        "del L[2]"
      ],
      "metadata": {
        "id": "yHIwyhCl3quH"
      },
      "execution_count": null,
      "outputs": []
    },
    {
      "cell_type": "code",
      "source": [
        "print(L)"
      ],
      "metadata": {
        "colab": {
          "base_uri": "https://localhost:8080/"
        },
        "id": "Pptd0mNM32A6",
        "outputId": "488269f5-f626-4229-c0fa-252b19eada66"
      },
      "execution_count": null,
      "outputs": [
        {
          "output_type": "stream",
          "name": "stdout",
          "text": [
            "[hellow,3.4,100]\n"
          ]
        }
      ]
    },
    {
      "cell_type": "code",
      "source": [
        "L.insert(0,1)"
      ],
      "metadata": {
        "id": "eZJeK9RzycEQ"
      },
      "execution_count": null,
      "outputs": []
    },
    {
      "cell_type": "code",
      "source": [
        "L.insert(2,'world')"
      ],
      "metadata": {
        "id": "KNUD796ZycHJ"
      },
      "execution_count": null,
      "outputs": []
    },
    {
      "cell_type": "code",
      "source": [
        "print(L)"
      ],
      "metadata": {
        "colab": {
          "base_uri": "https://localhost:8080/"
        },
        "id": "5x-Ytx2kuqS8",
        "outputId": "74f0760d-0f31-467e-b2dc-1f7144f236d0"
      },
      "execution_count": null,
      "outputs": [
        {
          "output_type": "stream",
          "name": "stdout",
          "text": [
            "[1,hellow,world,3.4,True,100]\n"
          ]
        }
      ]
    },
    {
      "cell_type": "code",
      "source": [
        "L.index(True)"
      ],
      "metadata": {
        "colab": {
          "base_uri": "https://localhost:8080/"
        },
        "id": "1-M-ZQuivtvn",
        "outputId": "9dde2658-b1ba-4772-b1b1-444d6de4626d"
      },
      "execution_count": null,
      "outputs": [
        {
          "output_type": "execute_result",
          "data": {
            "text/plain": [
              "2"
            ]
          },
          "metadata": {},
          "execution_count": 64
        }
      ]
    },
    {
      "cell_type": "code",
      "source": [
        "L.clear()"
      ],
      "metadata": {
        "id": "rWd-CrZdutde"
      },
      "execution_count": null,
      "outputs": []
    },
    {
      "cell_type": "code",
      "source": [
        "print(L)"
      ],
      "metadata": {
        "colab": {
          "base_uri": "https://localhost:8080/"
        },
        "id": "9Bli1U1GutgN",
        "outputId": "1f21aa9c-eca9-440d-bc86-4fd3b686bd44"
      },
      "execution_count": null,
      "outputs": [
        {
          "output_type": "stream",
          "name": "stdout",
          "text": [
            "[]\n"
          ]
        }
      ]
    },
    {
      "cell_type": "code",
      "source": [
        "len(L)"
      ],
      "metadata": {
        "colab": {
          "base_uri": "https://localhost:8080/"
        },
        "id": "3wj-SXoUmeWC",
        "outputId": "662b64c8-7b25-4e57-de1f-08b06b71d09d"
      },
      "execution_count": null,
      "outputs": [
        {
          "output_type": "execute_result",
          "data": {
            "text/plain": [
              "4"
            ]
          },
          "metadata": {},
          "execution_count": 33
        }
      ]
    },
    {
      "cell_type": "code",
      "source": [
        "print(L)"
      ],
      "metadata": {
        "colab": {
          "base_uri": "https://localhost:8080/"
        },
        "id": "s6sAST-jD-Cc",
        "outputId": "04e71bd2-4b57-47ee-b38f-f9e45267dc04"
      },
      "execution_count": null,
      "outputs": [
        {
          "output_type": "stream",
          "name": "stdout",
          "text": [
            "[hellow,3.4,True,100]\n"
          ]
        }
      ]
    },
    {
      "cell_type": "code",
      "source": [
        "L.pop()"
      ],
      "metadata": {
        "colab": {
          "base_uri": "https://localhost:8080/"
        },
        "id": "VkhBp950sP-H",
        "outputId": "f2ecd849-ab34-4296-baac-7c9ac248a1f7"
      },
      "execution_count": null,
      "outputs": [
        {
          "output_type": "stream",
          "name": "stdout",
          "text": [
            "100\n"
          ]
        }
      ]
    },
    {
      "cell_type": "code",
      "source": [
        "print(L)"
      ],
      "metadata": {
        "colab": {
          "base_uri": "https://localhost:8080/"
        },
        "id": "7ZMQpgJIsSmm",
        "outputId": "a81139a0-e1b6-4d71-fe7b-1113da1d3eb3"
      },
      "execution_count": null,
      "outputs": [
        {
          "output_type": "stream",
          "name": "stdout",
          "text": [
            "[hellow,3.4,True]\n"
          ]
        }
      ]
    },
    {
      "cell_type": "code",
      "source": [
        "print(L)"
      ],
      "metadata": {
        "colab": {
          "base_uri": "https://localhost:8080/"
        },
        "id": "zeOaTrvYlNP9",
        "outputId": "b3f4d1b3-1b1e-401f-ffa5-b30b8bb72f0e"
      },
      "execution_count": null,
      "outputs": [
        {
          "output_type": "stream",
          "name": "stdout",
          "text": [
            "<__main__.MeraList object at 0x7c61cce50650>\n"
          ]
        }
      ]
    },
    {
      "cell_type": "code",
      "source": [
        "L = [10 , 20 ,30]"
      ],
      "metadata": {
        "id": "Zzm-ocWflNSI"
      },
      "execution_count": null,
      "outputs": []
    },
    {
      "cell_type": "code",
      "source": [
        "L.remove(20)"
      ],
      "metadata": {
        "id": "rm7no5un45-w"
      },
      "execution_count": null,
      "outputs": []
    },
    {
      "cell_type": "code",
      "source": [
        "L"
      ],
      "metadata": {
        "colab": {
          "base_uri": "https://localhost:8080/"
        },
        "id": "Sxt1q2yu48L1",
        "outputId": "ecffd326-543e-4459-f074-fdc98157cf5b"
      },
      "execution_count": null,
      "outputs": [
        {
          "output_type": "execute_result",
          "data": {
            "text/plain": [
              "[10, 30]"
            ]
          },
          "metadata": {},
          "execution_count": 86
        }
      ]
    },
    {
      "cell_type": "code",
      "source": [
        "del L[0]"
      ],
      "metadata": {
        "id": "TmvmbAVKy1JY"
      },
      "execution_count": null,
      "outputs": []
    },
    {
      "cell_type": "code",
      "source": [
        "L"
      ],
      "metadata": {
        "colab": {
          "base_uri": "https://localhost:8080/"
        },
        "id": "I-yBMWS9y3_v",
        "outputId": "08911915-fb80-4bdb-cf75-67139bd593d8"
      },
      "execution_count": null,
      "outputs": [
        {
          "output_type": "execute_result",
          "data": {
            "text/plain": [
              "[20, 30]"
            ]
          },
          "metadata": {},
          "execution_count": 77
        }
      ]
    },
    {
      "cell_type": "code",
      "source": [
        "L.insert(1,15)"
      ],
      "metadata": {
        "id": "aEd81qxdwIM8"
      },
      "execution_count": null,
      "outputs": []
    },
    {
      "cell_type": "code",
      "source": [
        "L"
      ],
      "metadata": {
        "colab": {
          "base_uri": "https://localhost:8080/"
        },
        "id": "SRPxvwL7wO2Y",
        "outputId": "4ad3fa1e-d1d0-496c-baec-8c3c556eb9e5"
      },
      "execution_count": null,
      "outputs": [
        {
          "output_type": "execute_result",
          "data": {
            "text/plain": [
              "[10, 15, 20, 30]"
            ]
          },
          "metadata": {},
          "execution_count": 67
        }
      ]
    },
    {
      "cell_type": "code",
      "source": [
        "L.index(20)"
      ],
      "metadata": {
        "colab": {
          "base_uri": "https://localhost:8080/"
        },
        "id": "8zAUsUmpu4Dp",
        "outputId": "5e73f6eb-3c68-47b2-e26a-d3d422d2f431"
      },
      "execution_count": null,
      "outputs": [
        {
          "output_type": "execute_result",
          "data": {
            "text/plain": [
              "1"
            ]
          },
          "metadata": {},
          "execution_count": 54
        }
      ]
    },
    {
      "cell_type": "code",
      "source": [
        "L.clear()"
      ],
      "metadata": {
        "id": "xw0Y74NStb3T"
      },
      "execution_count": null,
      "outputs": []
    },
    {
      "cell_type": "code",
      "source": [
        "L"
      ],
      "metadata": {
        "colab": {
          "base_uri": "https://localhost:8080/"
        },
        "id": "5UOrVOG-tefS",
        "outputId": "483ffd88-4b59-4975-a400-a74d35288898"
      },
      "execution_count": null,
      "outputs": [
        {
          "output_type": "execute_result",
          "data": {
            "text/plain": [
              "[]"
            ]
          },
          "metadata": {},
          "execution_count": 43
        }
      ]
    },
    {
      "cell_type": "code",
      "source": [
        "L.pop()"
      ],
      "metadata": {
        "colab": {
          "base_uri": "https://localhost:8080/"
        },
        "id": "gPhf12Ytre1H",
        "outputId": "8d266ab3-a73b-4a01-9343-df188c39a61c"
      },
      "execution_count": null,
      "outputs": [
        {
          "output_type": "execute_result",
          "data": {
            "text/plain": [
              "30"
            ]
          },
          "metadata": {},
          "execution_count": 38
        }
      ]
    },
    {
      "cell_type": "code",
      "source": [
        "L"
      ],
      "metadata": {
        "colab": {
          "base_uri": "https://localhost:8080/"
        },
        "id": "NTIIIfQuripL",
        "outputId": "bdb6368c-778e-4d6f-9659-e3f02e34623d"
      },
      "execution_count": null,
      "outputs": [
        {
          "output_type": "execute_result",
          "data": {
            "text/plain": [
              "[10, 20]"
            ]
          },
          "metadata": {},
          "execution_count": 15
        }
      ]
    },
    {
      "cell_type": "code",
      "source": [
        "len(L)"
      ],
      "metadata": {
        "colab": {
          "base_uri": "https://localhost:8080/"
        },
        "id": "SlYH_rxylNUu",
        "outputId": "4108082b-b288-46a7-a459-c5ed06808379"
      },
      "execution_count": null,
      "outputs": [
        {
          "output_type": "execute_result",
          "data": {
            "text/plain": [
              "3"
            ]
          },
          "metadata": {},
          "execution_count": 8
        }
      ]
    },
    {
      "cell_type": "code",
      "source": [
        "L[4 ]"
      ],
      "metadata": {
        "colab": {
          "base_uri": "https://localhost:8080/",
          "height": 35
        },
        "id": "V929nTy5lNXW",
        "outputId": "932459b6-b27c-49b0-c1d7-369322cec730"
      },
      "execution_count": null,
      "outputs": [
        {
          "output_type": "execute_result",
          "data": {
            "text/plain": [
              "'IndexError: Index out of range'"
            ],
            "application/vnd.google.colaboratory.intrinsic+json": {
              "type": "string"
            }
          },
          "metadata": {},
          "execution_count": 12
        }
      ]
    },
    {
      "cell_type": "code",
      "source": [],
      "metadata": {
        "id": "mtHPyFn_lNZ3"
      },
      "execution_count": null,
      "outputs": []
    },
    {
      "cell_type": "code",
      "source": [],
      "metadata": {
        "id": "TgTOLNUtlNch"
      },
      "execution_count": null,
      "outputs": []
    }
  ]
}

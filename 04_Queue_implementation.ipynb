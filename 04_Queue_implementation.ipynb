{
  "nbformat": 4,
  "nbformat_minor": 0,
  "metadata": {
    "colab": {
      "provenance": [],
      "authorship_tag": "ABX9TyNlE3DJ7hhWH9G6iuoBjugC",
      "include_colab_link": true
    },
    "kernelspec": {
      "name": "python3",
      "display_name": "Python 3"
    },
    "language_info": {
      "name": "python"
    }
  },
  "cells": [
    {
      "cell_type": "markdown",
      "metadata": {
        "id": "view-in-github",
        "colab_type": "text"
      },
      "source": [
        "<a href=\"https://colab.research.google.com/github/kaynatmozammil/Data-Structure-Algorithm-DSA-using-Python/blob/main/04_Queue_implementation.ipynb\" target=\"_parent\"><img src=\"https://colab.research.google.com/assets/colab-badge.svg\" alt=\"Open In Colab\"/></a>"
      ]
    },
    {
      "cell_type": "markdown",
      "source": [
        "### Queue using two Stack\n"
      ],
      "metadata": {
        "id": "JNbNIobjpFRd"
      }
    },
    {
      "cell_type": "code",
      "source": [
        "class Node:\n",
        "  def __init__(self, data):\n",
        "    self.data = data\n",
        "    self.next = None\n",
        ""
      ],
      "metadata": {
        "id": "ltvNVoWGoWuV"
      },
      "execution_count": 16,
      "outputs": []
    },
    {
      "cell_type": "code",
      "source": [
        "class Stack:\n",
        "  def __init__(self):\n",
        "    self.top = None\n",
        "\n",
        "  def push(self, data):\n",
        "    new_node = Node(data)\n",
        "    if self.top is None:\n",
        "      self.top = new_node\n",
        "\n",
        "    else:\n",
        "      new_node.next = self.top\n",
        "      self.top = new_node\n",
        "\n",
        "  def pop(self):\n",
        "    if self.top is None:\n",
        "      print(\"Stack is empty\")\n",
        "    else:\n",
        "      self.top = self.top.next\n",
        "\n",
        "  def travers(self):\n",
        "    temp = self.top\n",
        "    while temp is not None:\n",
        "      print(temp.data , end = \" \")\n",
        "      temp = temp.next\n",
        "\n",
        "  def isEmpty(self):\n",
        "    return self.top is None"
      ],
      "metadata": {
        "id": "fhWe4hJYoWpJ"
      },
      "execution_count": 17,
      "outputs": []
    },
    {
      "cell_type": "code",
      "source": [
        "s1 = Stack()\n",
        "s2 = Stack()"
      ],
      "metadata": {
        "id": "nrRe4LtqqXbJ"
      },
      "execution_count": 18,
      "outputs": []
    },
    {
      "cell_type": "code",
      "source": [
        "def enqueue(data):\n",
        "  s1.push(data)\n",
        "  print(f\"{data} is enqueued\")\n",
        "\n",
        "def dequeue():\n",
        "  if s2.isEmpty():\n",
        "    if s1.isEmpty():\n",
        "      print(\"Queue is empty\")\n",
        "    else:\n",
        "      while not s1.isEmpty():\n",
        "        s2.push(s1.top.data)\n",
        "        s1.pop()\n",
        "\n",
        "\n"
      ],
      "metadata": {
        "id": "N1EOq-MiqXfW"
      },
      "execution_count": 19,
      "outputs": []
    },
    {
      "cell_type": "code",
      "source": [
        "enqueue(1)\n",
        "enqueue(2)\n",
        "enqueue(3)\n",
        "enqueue(4)\n"
      ],
      "metadata": {
        "colab": {
          "base_uri": "https://localhost:8080/"
        },
        "id": "khmnaKrsqXxV",
        "outputId": "b127db38-7cef-44d8-a339-0bb70b944bb5"
      },
      "execution_count": 20,
      "outputs": [
        {
          "output_type": "stream",
          "name": "stdout",
          "text": [
            "1 is enqueued\n",
            "2 is enqueued\n",
            "3 is enqueued\n",
            "4 is enqueued\n"
          ]
        }
      ]
    },
    {
      "cell_type": "code",
      "source": [
        "dequeue()\n",
        "dequeue()"
      ],
      "metadata": {
        "id": "QfjcYtTAoWZP"
      },
      "execution_count": 27,
      "outputs": []
    },
    {
      "cell_type": "code",
      "source": [
        "s1.travers()"
      ],
      "metadata": {
        "id": "tPGNFUCiuzDC"
      },
      "execution_count": 22,
      "outputs": []
    },
    {
      "cell_type": "markdown",
      "source": [
        "### Queue implementation using Linked List"
      ],
      "metadata": {
        "id": "_TYjvcCioZFp"
      }
    },
    {
      "cell_type": "code",
      "execution_count": 3,
      "metadata": {
        "id": "hAhrSm5GLw2j"
      },
      "outputs": [],
      "source": [
        "class Node:\n",
        "    def __init__(self, data):\n",
        "        self.data = data\n",
        "        self.next = None\n",
        ""
      ]
    },
    {
      "cell_type": "code",
      "source": [
        "class Queue:\n",
        "\n",
        "  def __init__(self):\n",
        "    self.front = None\n",
        "    self.rear = None\n",
        "\n",
        "  def enqueue(self, data):\n",
        "    new_node = Node(data)\n",
        "    if self.rear is None:\n",
        "      self.front = new_node\n",
        "      self.rear = self.front\n",
        "\n",
        "    else:\n",
        "      self.rear.next = new_node\n",
        "      self.rear = new_node\n",
        "\n",
        "  def travers(self):\n",
        "    temp = self.front\n",
        "    while temp is not None:\n",
        "      print(temp.data , end = \" \")\n",
        "      temp = temp.next\n",
        "\n",
        "  def dequeue(self):\n",
        "    if self.front is None:\n",
        "      print(\"Queue is empty\")\n",
        "    else:\n",
        "      self.front = self.front.next\n",
        "\n",
        "  def isEmpty(self):\n",
        "    return self.front is None\n",
        "\n",
        "  def size(self):\n",
        "    temp = self.front\n",
        "    count = 0\n",
        "    while temp is not None:\n",
        "      count += 1\n",
        "      temp = temp.next\n",
        "    return count\n",
        "\n",
        "  def front_item(self):\n",
        "    if self.front is None:\n",
        "      print(\"Queue is empty\")\n",
        "    else:\n",
        "      return self.front.data\n",
        "\n",
        "  def rear_item(self):\n",
        "    if self.rear is None:\n",
        "      print(\"Queue is empty\")\n",
        "    else:\n",
        "      return self.rear.data"
      ],
      "metadata": {
        "id": "mGxG64K6NVYI"
      },
      "execution_count": 5,
      "outputs": []
    },
    {
      "cell_type": "code",
      "source": [
        "q = Queue()\n",
        "q.enqueue(1)\n",
        "q.enqueue(2)\n",
        "q.enqueue(3)"
      ],
      "metadata": {
        "id": "eqXIComCNVbQ"
      },
      "execution_count": 6,
      "outputs": []
    },
    {
      "cell_type": "code",
      "source": [
        "q.travers()"
      ],
      "metadata": {
        "colab": {
          "base_uri": "https://localhost:8080/"
        },
        "id": "O0S0A0CPNVyn",
        "outputId": "b6c82281-53ac-4e38-d58a-bdae90c05a39"
      },
      "execution_count": 7,
      "outputs": [
        {
          "output_type": "stream",
          "name": "stdout",
          "text": [
            "1 2 3 "
          ]
        }
      ]
    },
    {
      "cell_type": "code",
      "source": [
        "q.front_item()"
      ],
      "metadata": {
        "colab": {
          "base_uri": "https://localhost:8080/"
        },
        "id": "ZboUWOrAkaiN",
        "outputId": "d3565fb2-4d1c-45c5-b857-302d0bd20a15"
      },
      "execution_count": 8,
      "outputs": [
        {
          "output_type": "execute_result",
          "data": {
            "text/plain": [
              "1"
            ]
          },
          "metadata": {},
          "execution_count": 8
        }
      ]
    },
    {
      "cell_type": "code",
      "source": [
        "q.rear_item()"
      ],
      "metadata": {
        "colab": {
          "base_uri": "https://localhost:8080/"
        },
        "id": "Jx04o540kdAk",
        "outputId": "626757f2-215d-46cf-f7fd-004b6b04cea6"
      },
      "execution_count": 9,
      "outputs": [
        {
          "output_type": "execute_result",
          "data": {
            "text/plain": [
              "3"
            ]
          },
          "metadata": {},
          "execution_count": 9
        }
      ]
    },
    {
      "cell_type": "code",
      "source": [
        "q.dequeue()"
      ],
      "metadata": {
        "id": "eTZWoH77NWAF"
      },
      "execution_count": 21,
      "outputs": []
    },
    {
      "cell_type": "code",
      "source": [
        "q.travers()"
      ],
      "metadata": {
        "colab": {
          "base_uri": "https://localhost:8080/"
        },
        "id": "kW0tkX6-PCvA",
        "outputId": "76838477-abcf-49e0-ba7c-ead83fba75de"
      },
      "execution_count": 22,
      "outputs": [
        {
          "output_type": "stream",
          "name": "stdout",
          "text": [
            "2 3 "
          ]
        }
      ]
    },
    {
      "cell_type": "code",
      "source": [
        "q.isEmpty()"
      ],
      "metadata": {
        "colab": {
          "base_uri": "https://localhost:8080/"
        },
        "id": "0DI9N-nrP7bs",
        "outputId": "fbdf98bb-a328-4182-94f8-d6c7ffcbf8e7"
      },
      "execution_count": 23,
      "outputs": [
        {
          "output_type": "execute_result",
          "data": {
            "text/plain": [
              "False"
            ]
          },
          "metadata": {},
          "execution_count": 23
        }
      ]
    },
    {
      "cell_type": "code",
      "source": [
        "q.size()"
      ],
      "metadata": {
        "colab": {
          "base_uri": "https://localhost:8080/"
        },
        "id": "85odtIdaP7eK",
        "outputId": "2c479d8b-ac63-4d7d-cd70-74169237159b"
      },
      "execution_count": 24,
      "outputs": [
        {
          "output_type": "execute_result",
          "data": {
            "text/plain": [
              "2"
            ]
          },
          "metadata": {},
          "execution_count": 24
        }
      ]
    },
    {
      "cell_type": "code",
      "source": [],
      "metadata": {
        "id": "sXJcU5PGPCxq"
      },
      "execution_count": null,
      "outputs": []
    }
  ]
}
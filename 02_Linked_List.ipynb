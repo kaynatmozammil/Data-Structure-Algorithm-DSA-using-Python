{
  "nbformat": 4,
  "nbformat_minor": 0,
  "metadata": {
    "colab": {
      "provenance": [],
      "authorship_tag": "ABX9TyNYXTx6w+dYLFbHnIpQlGJe",
      "include_colab_link": true
    },
    "kernelspec": {
      "name": "python3",
      "display_name": "Python 3"
    },
    "language_info": {
      "name": "python"
    }
  },
  "cells": [
    {
      "cell_type": "markdown",
      "metadata": {
        "id": "view-in-github",
        "colab_type": "text"
      },
      "source": [
        "<a href=\"https://colab.research.google.com/github/kaynatmozammil/Data-Structure-Algorithm-DSA-using-Python/blob/main/02_Linked_List.ipynb\" target=\"_parent\"><img src=\"https://colab.research.google.com/assets/colab-badge.svg\" alt=\"Open In Colab\"/></a>"
      ]
    },
    {
      "cell_type": "code",
      "execution_count": 182,
      "metadata": {
        "id": "hspRJAzEs0X4"
      },
      "outputs": [],
      "source": [
        "class Node:\n",
        "\n",
        "  def __init__(self, value):\n",
        "    self.value = value\n",
        "    self.next = None\n",
        "\n",
        "\n",
        "class LinkedList:\n",
        "\n",
        "  def __init__(self):\n",
        "    # Empty Linked List\n",
        "    self.head = None\n",
        "    self.n = 0\n",
        "\n",
        "  def __len__(self):\n",
        "    return self.n\n",
        "\n",
        "  def insert_head(self, value):\n",
        "    # new node\n",
        "    new_node = Node(value)\n",
        "    # create connection\n",
        "    new_node.next = self.head\n",
        "\n",
        "    # reassign head\n",
        "    self.head = new_node\n",
        "\n",
        "    # increment n\n",
        "    self.n += 1\n",
        "\n",
        "  def __str__(self):\n",
        "    current = self.head\n",
        "    result = ''\n",
        "\n",
        "    while current!=None:\n",
        "      result = result + str(current.value) + '->'\n",
        "      current = current.next\n",
        "\n",
        "    return result[:-2]\n",
        "\n",
        "  # insert from the tail --- Append\n",
        "\n",
        "  def append(self,value):\n",
        "    new_node = Node(value)\n",
        "\n",
        "    if self.head == None:\n",
        "      self.head = new_node\n",
        "      self.n += 1\n",
        "      return\n",
        "    curr = self.head\n",
        "\n",
        "    while curr.next != None:\n",
        "      curr = curr.next\n",
        "\n",
        "    # you are at the last node\n",
        "    curr.next = new_node\n",
        "\n",
        "    self.n += 1\n",
        "\n",
        "  def insert_after(self, after, value):\n",
        "    new_node = Node(value)\n",
        "\n",
        "    curr = self.head\n",
        "\n",
        "    while curr != None:\n",
        "      if curr.value == after:\n",
        "        break\n",
        "      curr = curr.next\n",
        "\n",
        "    # case 1 break -> it means ite found\n",
        "    if curr != None:\n",
        "      new_node.next = curr.next\n",
        "      curr.next = new_node\n",
        "      self.n += 1\n",
        "      return\n",
        "    else:\n",
        "      return 'Item not found'\n",
        "    # case 2 loop iterated completely -> item not found -- curr -> None\n",
        "\n",
        "  def clear(self):\n",
        "    self.head = None\n",
        "    self.n = 0\n",
        "\n",
        "  def delete_head(self):\n",
        "    if not self.head:\n",
        "      return 'List is empty'\n",
        "    self.head = self.head.next\n",
        "    self.n -= 1\n",
        "\n",
        "  #  Delete from Tail\n",
        "\n",
        "  def pop(self):\n",
        "\n",
        "    if self.head == None:\n",
        "      return 'List is empty'\n",
        "\n",
        "    curr = self.head\n",
        "    # is single element ?\n",
        "\n",
        "    if curr.next == None:\n",
        "      return self.delete_head()\n",
        "    # if more than one element\n",
        "    while curr.next.next != None:\n",
        "      curr = curr.next\n",
        "    curr.next = None\n",
        "    self.n -= 1\n",
        "\n",
        "  # Get Tail Element\n",
        "  def get_tail(self):\n",
        "      if not self.head:\n",
        "          return 'List is empty'\n",
        "      curr = self.head\n",
        "      while curr.next:\n",
        "          curr = curr.next\n",
        "      return curr.value\n",
        "\n",
        "  # Print in Reverse (from tail to head)\n",
        "  def reverse_print(self):\n",
        "      def _reverse(node):\n",
        "          if node:\n",
        "              _reverse(node.next)\n",
        "              print(node.value, end=' ')\n",
        "      _reverse(self.head)\n",
        "      print()\n",
        "\n",
        "  # Insert Before a Value\n",
        "  def insert_before(self, before, value):\n",
        "      if not self.head:\n",
        "          return 'List is empty'\n",
        "      if self.head.value == before:\n",
        "          self.insert_head(value)\n",
        "          return\n",
        "      curr = self.head\n",
        "      while curr.next and curr.next.value != before:\n",
        "          curr = curr.next\n",
        "      if curr.next is None:\n",
        "          return 'Item not found'\n",
        "      new_node = Node(value)\n",
        "      new_node.next = curr.next\n",
        "      curr.next = new_node\n",
        "      self.n += 1\n",
        "\n",
        "  # removing by value\n",
        "  def remove(self, value):\n",
        "\n",
        "    if self.head == None:\n",
        "      return 'List is empty'\n",
        "    if self.head.value == value:\n",
        "      self.delete_head()\n",
        "      return\n",
        "\n",
        "    curr  = self.head\n",
        "\n",
        "    while curr.next != None:\n",
        "      if curr.next.value == value:\n",
        "        break\n",
        "      curr = curr.next\n",
        "\n",
        "    if curr.next == None:\n",
        "      return 'Item not found'\n",
        "    else:\n",
        "      curr.next = curr.next.next\n",
        "      self.n -= 1\n",
        "\n",
        "\n",
        "  def search(self,value):\n",
        "\n",
        "    curr = self.head\n",
        "    pos = 0\n",
        "    while curr != None:\n",
        "      if curr.value == value:\n",
        "        return pos\n",
        "      curr = curr.next\n",
        "      pos += 1\n",
        "    return \"Not found\"\n",
        "\n",
        "  def __getitem__(self,index):\n",
        "    curr = self.head\n",
        "    pos = 0\n",
        "    while curr != None:\n",
        "      if pos == index:\n",
        "        return curr.value\n",
        "      curr = curr.next\n",
        "      pos += 1\n",
        "    return \"Index Not found\"\n",
        "\n",
        "  def replace_max(self,value):\n",
        "    if self.head == None:\n",
        "      return 'List is empty'\n",
        "    curr = self.head\n",
        "    max_value = curr.value\n",
        "    max_node = curr\n",
        "    while curr != None:\n",
        "      if curr.value > max_value:\n",
        "        max_value = curr.value\n",
        "        max_node = curr\n",
        "      curr = curr.next\n",
        "    max_node.value = value\n",
        "\n",
        ""
      ]
    },
    {
      "cell_type": "code",
      "source": [
        "L = LinkedList()"
      ],
      "metadata": {
        "id": "pElsoMBjULKj"
      },
      "execution_count": 183,
      "outputs": []
    },
    {
      "cell_type": "code",
      "source": [
        "L.insert_head(1)\n",
        "L.insert_head(2)\n",
        "L.insert_head(3)\n",
        "L.insert_head(4)"
      ],
      "metadata": {
        "id": "xxHZtsPOULNT"
      },
      "execution_count": 184,
      "outputs": []
    },
    {
      "cell_type": "code",
      "source": [
        "print(L)"
      ],
      "metadata": {
        "colab": {
          "base_uri": "https://localhost:8080/"
        },
        "id": "gN34KdPeeHp7",
        "outputId": "f7ad071e-5dad-4199-de08-dfd31471c755"
      },
      "execution_count": 185,
      "outputs": [
        {
          "output_type": "stream",
          "name": "stdout",
          "text": [
            "4->3->2->1\n"
          ]
        }
      ]
    },
    {
      "cell_type": "code",
      "source": [
        "L.replace_max(88)"
      ],
      "metadata": {
        "id": "uTE5Ygx1ifSb"
      },
      "execution_count": 186,
      "outputs": []
    },
    {
      "cell_type": "code",
      "source": [
        "print(L)"
      ],
      "metadata": {
        "colab": {
          "base_uri": "https://localhost:8080/"
        },
        "id": "CGGIheaGijB5",
        "outputId": "66bbd75e-7d5e-47e1-ffbb-934b046e91c0"
      },
      "execution_count": 187,
      "outputs": [
        {
          "output_type": "stream",
          "name": "stdout",
          "text": [
            "88->3->2->1\n"
          ]
        }
      ]
    },
    {
      "cell_type": "code",
      "source": [
        "L.__getitem__(5)"
      ],
      "metadata": {
        "colab": {
          "base_uri": "https://localhost:8080/",
          "height": 35
        },
        "id": "sea6RzpId8lR",
        "outputId": "9be16108-e9af-4401-ce23-8188996aed45"
      },
      "execution_count": 181,
      "outputs": [
        {
          "output_type": "execute_result",
          "data": {
            "text/plain": [
              "'Index Not found'"
            ],
            "application/vnd.google.colaboratory.intrinsic+json": {
              "type": "string"
            }
          },
          "metadata": {},
          "execution_count": 181
        }
      ]
    },
    {
      "cell_type": "code",
      "source": [
        "L[8]"
      ],
      "metadata": {
        "colab": {
          "base_uri": "https://localhost:8080/",
          "height": 35
        },
        "id": "KynsDbUffd1x",
        "outputId": "8e026380-bff1-43ed-9509-9d485ae2c68a"
      },
      "execution_count": 180,
      "outputs": [
        {
          "output_type": "execute_result",
          "data": {
            "text/plain": [
              "'Index Not found'"
            ],
            "application/vnd.google.colaboratory.intrinsic+json": {
              "type": "string"
            }
          },
          "metadata": {},
          "execution_count": 180
        }
      ]
    },
    {
      "cell_type": "code",
      "source": [
        "print(L)"
      ],
      "metadata": {
        "colab": {
          "base_uri": "https://localhost:8080/"
        },
        "id": "6lRB_MBGULfV",
        "outputId": "ad479746-f05f-4ba9-8d59-45a2e9417d88"
      },
      "execution_count": 160,
      "outputs": [
        {
          "output_type": "stream",
          "name": "stdout",
          "text": [
            "4->3->2->1\n"
          ]
        }
      ]
    },
    {
      "cell_type": "code",
      "source": [
        "L.search(4)"
      ],
      "metadata": {
        "colab": {
          "base_uri": "https://localhost:8080/"
        },
        "id": "VpeiCTDIdJRV",
        "outputId": "489b6820-0eb0-465c-a0f4-c0e6d3eb5560"
      },
      "execution_count": 162,
      "outputs": [
        {
          "output_type": "execute_result",
          "data": {
            "text/plain": [
              "0"
            ]
          },
          "metadata": {},
          "execution_count": 162
        }
      ]
    },
    {
      "cell_type": "code",
      "source": [
        "L.remove(78)"
      ],
      "metadata": {
        "colab": {
          "base_uri": "https://localhost:8080/",
          "height": 35
        },
        "id": "_OlHkCx3UaJU",
        "outputId": "308132ae-b9d6-4c9d-bdf5-2ab08dda96c8"
      },
      "execution_count": 150,
      "outputs": [
        {
          "output_type": "execute_result",
          "data": {
            "text/plain": [
              "'Item not found'"
            ],
            "application/vnd.google.colaboratory.intrinsic+json": {
              "type": "string"
            }
          },
          "metadata": {},
          "execution_count": 150
        }
      ]
    },
    {
      "cell_type": "code",
      "source": [
        "print(L)"
      ],
      "metadata": {
        "colab": {
          "base_uri": "https://localhost:8080/"
        },
        "id": "WoTBblqlUaMF",
        "outputId": "2736431d-f7fd-4364-e2d3-2ec7361be005"
      },
      "execution_count": 151,
      "outputs": [
        {
          "output_type": "stream",
          "name": "stdout",
          "text": [
            "4->3->2->1\n"
          ]
        }
      ]
    },
    {
      "cell_type": "code",
      "source": [
        "print(L)"
      ],
      "metadata": {
        "colab": {
          "base_uri": "https://localhost:8080/"
        },
        "id": "72G9utnOCugK",
        "outputId": "993ae8b7-b905-42a0-80be-8cdd61f7f953"
      },
      "execution_count": 44,
      "outputs": [
        {
          "output_type": "stream",
          "name": "stdout",
          "text": [
            "4->3->2->1\n"
          ]
        }
      ]
    },
    {
      "cell_type": "code",
      "source": [
        "L.pop()"
      ],
      "metadata": {
        "id": "0C0M5q6aQFT8"
      },
      "execution_count": 49,
      "outputs": []
    },
    {
      "cell_type": "code",
      "source": [
        "L.pop()"
      ],
      "metadata": {
        "colab": {
          "base_uri": "https://localhost:8080/",
          "height": 35
        },
        "id": "XGNcUqwxRFw6",
        "outputId": "afc832eb-0aa9-4d5e-ebc0-c9fbd528b64e"
      },
      "execution_count": 55,
      "outputs": [
        {
          "output_type": "execute_result",
          "data": {
            "text/plain": [
              "'List is empty'"
            ],
            "application/vnd.google.colaboratory.intrinsic+json": {
              "type": "string"
            }
          },
          "metadata": {},
          "execution_count": 55
        }
      ]
    },
    {
      "cell_type": "code",
      "source": [
        "print(L)"
      ],
      "metadata": {
        "colab": {
          "base_uri": "https://localhost:8080/"
        },
        "id": "G3ixYRCSQHxl",
        "outputId": "cda431d2-a719-4d78-a7e0-d14c2b2ed1a0"
      },
      "execution_count": 56,
      "outputs": [
        {
          "output_type": "stream",
          "name": "stdout",
          "text": [
            "\n"
          ]
        }
      ]
    },
    {
      "cell_type": "code",
      "source": [
        "L.delete_head()"
      ],
      "metadata": {
        "id": "UBAlUYSaFVAR"
      },
      "execution_count": null,
      "outputs": []
    },
    {
      "cell_type": "code",
      "source": [
        "L.clear()"
      ],
      "metadata": {
        "id": "lxdQeheeCUZ3"
      },
      "execution_count": null,
      "outputs": []
    },
    {
      "cell_type": "code",
      "source": [
        "L.insert_after(20,200)"
      ],
      "metadata": {
        "colab": {
          "base_uri": "https://localhost:8080/",
          "height": 36
        },
        "id": "Z_Cv7LCGARmq",
        "outputId": "446a09d6-81d6-4b8e-9c9e-00c30a339886"
      },
      "execution_count": null,
      "outputs": [
        {
          "output_type": "execute_result",
          "data": {
            "text/plain": [
              "'Item not found'"
            ],
            "application/vnd.google.colaboratory.intrinsic+json": {
              "type": "string"
            }
          },
          "metadata": {},
          "execution_count": 57
        }
      ]
    },
    {
      "cell_type": "code",
      "source": [
        "L.insert_after(2,100)"
      ],
      "metadata": {
        "id": "itrM8TcpAUEj"
      },
      "execution_count": null,
      "outputs": []
    },
    {
      "cell_type": "code",
      "source": [
        "L.append(5)"
      ],
      "metadata": {
        "id": "EIV0uq1r5Sat"
      },
      "execution_count": null,
      "outputs": []
    },
    {
      "cell_type": "code",
      "source": [
        "print(L)"
      ],
      "metadata": {
        "colab": {
          "base_uri": "https://localhost:8080/"
        },
        "id": "7B4WPyTHyT9i",
        "outputId": "53455409-80be-46d8-bda4-276f7bad36a1"
      },
      "execution_count": null,
      "outputs": [
        {
          "output_type": "stream",
          "name": "stdout",
          "text": [
            "4->3->2->1\n"
          ]
        }
      ]
    },
    {
      "cell_type": "code",
      "source": [
        "len(L)"
      ],
      "metadata": {
        "colab": {
          "base_uri": "https://localhost:8080/"
        },
        "id": "xTgw8g7Pxlz0",
        "outputId": "97af81f4-49a1-4d3e-e930-7b85bd1e6505"
      },
      "execution_count": null,
      "outputs": [
        {
          "output_type": "execute_result",
          "data": {
            "text/plain": [
              "4"
            ]
          },
          "metadata": {},
          "execution_count": 23
        }
      ]
    },
    {
      "cell_type": "code",
      "source": [
        "print(L )"
      ],
      "metadata": {
        "colab": {
          "base_uri": "https://localhost:8080/"
        },
        "id": "PKDyWo1Mv8r_",
        "outputId": "fe1f18d0-628e-468f-ce9f-aed7444cb194"
      },
      "execution_count": null,
      "outputs": [
        {
          "output_type": "stream",
          "name": "stdout",
          "text": [
            "<__main__.LinkedList object at 0x782decc47490>\n"
          ]
        }
      ]
    },
    {
      "cell_type": "code",
      "source": [
        "len(L)"
      ],
      "metadata": {
        "colab": {
          "base_uri": "https://localhost:8080/"
        },
        "id": "CiMNU-YEwSq9",
        "outputId": "4695900d-54b2-467d-e766-8ce4145e73eb"
      },
      "execution_count": null,
      "outputs": [
        {
          "output_type": "execute_result",
          "data": {
            "text/plain": [
              "0"
            ]
          },
          "metadata": {},
          "execution_count": 18
        }
      ]
    },
    {
      "cell_type": "code",
      "source": [
        "a = Node(1)"
      ],
      "metadata": {
        "id": "0tkKKaH2tIbz"
      },
      "execution_count": null,
      "outputs": []
    },
    {
      "cell_type": "code",
      "source": [
        "print(a.next)"
      ],
      "metadata": {
        "colab": {
          "base_uri": "https://localhost:8080/"
        },
        "id": "kHxQSJWjtIgH",
        "outputId": "f419d77e-dd18-45e3-bcd1-4c2fa5776ec7"
      },
      "execution_count": null,
      "outputs": [
        {
          "output_type": "stream",
          "name": "stdout",
          "text": [
            "None\n"
          ]
        }
      ]
    },
    {
      "cell_type": "code",
      "source": [
        "a = Node(1)\n",
        "b = Node(2)\n",
        "c = Node(3)"
      ],
      "metadata": {
        "id": "z48J_6TAtIkt"
      },
      "execution_count": null,
      "outputs": []
    },
    {
      "cell_type": "code",
      "source": [
        "print(c.value)"
      ],
      "metadata": {
        "colab": {
          "base_uri": "https://localhost:8080/"
        },
        "id": "pozRlnn7tl8d",
        "outputId": "32fd6624-e4d5-489a-ff05-9dfc468d4da5"
      },
      "execution_count": null,
      "outputs": [
        {
          "output_type": "stream",
          "name": "stdout",
          "text": [
            "3\n"
          ]
        }
      ]
    },
    {
      "cell_type": "code",
      "source": [
        "id(a)"
      ],
      "metadata": {
        "colab": {
          "base_uri": "https://localhost:8080/"
        },
        "id": "g9ZL5y_Ptl_K",
        "outputId": "07081922-ec76-4fa7-cfda-0b5c3bc45c43"
      },
      "execution_count": null,
      "outputs": [
        {
          "output_type": "execute_result",
          "data": {
            "text/plain": [
              "132138661040528"
            ]
          },
          "metadata": {},
          "execution_count": 10
        }
      ]
    },
    {
      "cell_type": "code",
      "source": [],
      "metadata": {
        "id": "76cNvwxztmBY"
      },
      "execution_count": null,
      "outputs": []
    }
  ]
}